{
 "cells": [
  {
   "cell_type": "code",
   "execution_count": 1,
   "metadata": {},
   "outputs": [
    {
     "name": "stdout",
     "output_type": "stream",
     "text": [
      "done\n"
     ]
    }
   ],
   "source": [
    "# %load init.ipy\n",
    "%reload_ext autoreload\n",
    "%autoreload 2\n",
    "\n",
    "from importlib import reload\n",
    "\n",
    "# import os\n",
    "# import sys\n",
    "# import logging\n",
    "import warnings\n",
    "# import glob\n",
    "# from collections import OrderedDict\n",
    "\n",
    "import numpy as np\n",
    "import matplotlib.pyplot as plt\n",
    "import matplotlib as mpl\n",
    "# import scipy as sp\n",
    "# import scipy.interpolate\n",
    "# import astropy as ap\n",
    "# import h5py\n",
    "\n",
    "\n",
    "# --- LZK Libs ---\n",
    "\n",
    "import zcode.math as zmath\n",
    "import zcode.plot as zplot\n",
    "# import zcode.astro as zastro\n",
    "from zcode.constants import *\n",
    "import zcode.inout as zio\n",
    "\n",
    "# import kalepy as kale\n",
    "\n",
    "\n",
    "# --- Arepo / Illustris ---\n",
    "\n",
    "import illpy\n",
    "import illpy_lib\n",
    "import illpy_lib.illcosmo\n",
    "import illpy_lib.illbh\n",
    "# import illpy_lib.illbh.mergers\n",
    "# import illpy_lib.illbh.details\n",
    "# import illpy_lib.illbh.snapshots\n",
    "# import illpy_lib.illbh.groupcats\n",
    "\n",
    "from illpy_lib.illbh import BH_TYPE\n",
    "\n",
    "\n",
    "# --- Generic Setup ---\n",
    "\n",
    "# Silence annoying numpy errors\n",
    "np.seterr(divide='ignore', invalid='ignore', over='ignore');\n",
    "%precision %.2g\n",
    "\n",
    "warnings.filterwarnings(\"ignore\", category=UserWarning)\n",
    "\n",
    "# Plotting settings\n",
    "mpl.rc('font', **{'family': 'serif', 'sans-serif': ['Times'], 'size': 12})\n",
    "mpl.rc('lines', solid_capstyle='round')\n",
    "mpl.rc('mathtext', fontset='cm')\n",
    "plt.rcParams.update({'grid.alpha': 0.5})\n",
    "\n",
    "\n",
    "# --- Project Setup ---\n",
    "\n",
    "# PATH_BASE = \"/blue/lblecha/lkelley/arepo_sims/cosmo_zooms/dynamics-comparison\"\n",
    "# PATH_BASE = \"/Volumes/Smally/arepo_sims/\"\n",
    "\n",
    "# SIM_NAME = \"bh_new_centering\"\n",
    "\n",
    "# sim_path = os.path.join(PATH_BASE, SIM_NAME, 'output', '')\n",
    "\n",
    "# PATH = (\n",
    "# #     \"/Volumes/Smally/arepo_sims/\"\n",
    "# #     \"bh_new_centering/output\"\n",
    "#     \"new-log_pos-test/output\"\n",
    "# #     \"/Volumes/Smally/log_test_data/\"\n",
    "# )\n",
    "\n",
    "# SIM_PATHS = [\n",
    "#     \"bh_new_centering\",\n",
    "#     \"repos-potmin\",\n",
    "#     \"unalt-dyn\"\n",
    "# ]\n",
    "\n",
    "print(\"done\")"
   ]
  },
  {
   "cell_type": "code",
   "execution_count": 2,
   "metadata": {},
   "outputs": [],
   "source": [
    "SIM_PATH = (\n",
    "    \"/net/hernquistfs3/hernquistfs3/share_root/IllustrisTNG/Runs/\"\n",
    "    \"L75n1820TNG/\"\n",
    ")\n",
    "PROC_PATH = (\n",
    "    \"/n/holystore01/LABS/hernquist_lab/Lab/ghernquist/lkelley/illustris-data/newer/\"\n",
    "    \"L75n1820TNG/\"\n",
    ")"
   ]
  },
  {
   "cell_type": "code",
   "execution_count": 4,
   "metadata": {},
   "outputs": [
    {
     "name": "stdout",
     "output_type": "stream",
     "text": [
      "Running `_process()`; recreate: True, exists: False (/n/holystore01/LABS/hernquist_lab/Lab/ghernquist/lkelley/illustris-data/newer/L75n1820TNG/bh-snapshots/bh-snapshots_099.hdf5)\n",
      "Loaded header time=1.00000000, nbh=37053\n",
      "Loaded 37053 BHs from snapshot 99\n",
      "Saved data to '/n/holystore01/LABS/hernquist_lab/Lab/ghernquist/lkelley/illustris-data/newer/L75n1820TNG/bh-snapshots/bh-snapshots_099.hdf5' size 5.0 MB\n",
      "Loaded      37053 entries from '/n/holystore01/LABS/hernquist_lab/Lab/ghernquist/lkelley/illustris-data/newer/L75n1820TNG/bh-snapshots/bh-snapshots_099.hdf5', created '2020-10-19 15:56:58.960749'\n",
      "Running `_process()`; recreate: True, exists: True (/n/holystore01/LABS/hernquist_lab/Lab/ghernquist/lkelley/illustris-data/newer/L75n1820TNG/bh-snapshots/bh-snapshots_099.hdf5)\n",
      "Loaded header time=1.00000000, nbh=37053\n",
      "Loaded 37053 BHs from snapshot 99\n",
      "Saved data to '/n/holystore01/LABS/hernquist_lab/Lab/ghernquist/lkelley/illustris-data/newer/L75n1820TNG/bh-snapshots/bh-snapshots_099.hdf5' size 5.0 MB\n",
      "Loaded      37053 entries from '/n/holystore01/LABS/hernquist_lab/Lab/ghernquist/lkelley/illustris-data/newer/L75n1820TNG/bh-snapshots/bh-snapshots_099.hdf5', created '2020-10-19 15:57:37.467655'\n"
     ]
    }
   ],
   "source": [
    "import illpy_lib.illbh.snapshots\n",
    "reload(illpy_lib.illbh.snapshots)\n",
    "snap_99 = illpy_lib.illbh.snapshots.Snapshots_Snap(99, SIM_PATH, PROC_PATH, recreate=True)\n",
    "# snaps = illpy_lib.illbh.snapshots.Snapshots(SIM_PATH, PROC_PATH, recreate=False, verbose=True)"
   ]
  },
  {
   "cell_type": "code",
   "execution_count": null,
   "metadata": {},
   "outputs": [],
   "source": [
    "snaps.keys()"
   ]
  },
  {
   "cell_type": "code",
   "execution_count": 4,
   "metadata": {},
   "outputs": [
    {
     "name": "stderr",
     "output_type": "stream",
     "text": [
      "files:   0%|          | 15/10752 [00:00<01:15, 142.08it/s]"
     ]
    },
    {
     "name": "stdout",
     "output_type": "stream",
     "text": [
      "Running `_process()`; recreate: True, exists: True (/n/holystore01/LABS/hernquist_lab/Lab/ghernquist/lkelley/illustris-data/newer/L75n1820TNG/bh-mergers.hdf5)\n",
      "Found 10752 merger files\n",
      "first merger line: '0 0.187757 106748456786 0.000109853 106081074723 0.00382048'\n"
     ]
    },
    {
     "name": "stderr",
     "output_type": "stream",
     "text": [
      "files: 100%|██████████| 10752/10752 [01:36<00:00, 111.98it/s]"
     ]
    },
    {
     "name": "stdout",
     "output_type": "stream",
     "text": [
      "Loaded 24184 raw mergers\n",
      "Loaded  24184 mergers\n",
      "Identified 30973 unique BHs in 48368 mergers\n",
      "Saved data to '/n/holystore01/LABS/hernquist_lab/Lab/ghernquist/lkelley/illustris-data/newer/L75n1820TNG/bh-mergers.hdf5' size 2.2 MB\n",
      "Loaded      30973 entries from '/n/holystore01/LABS/hernquist_lab/Lab/ghernquist/lkelley/illustris-data/newer/L75n1820TNG/bh-mergers.hdf5', created '2020-10-18 18:18:27.985858'\n"
     ]
    },
    {
     "name": "stderr",
     "output_type": "stream",
     "text": [
      "\n"
     ]
    }
   ],
   "source": [
    "import illpy_lib.illbh.mergers\n",
    "reload(illpy_lib.illbh.mergers)\n",
    "mergers = illpy_lib.illbh.mergers.Mergers_TNG(SIM_PATH, PROC_PATH, recreate=True, verbose=True)"
   ]
  },
  {
   "cell_type": "code",
   "execution_count": 10,
   "metadata": {},
   "outputs": [
    {
     "data": {
      "text/plain": [
       "['BH_Mass',\n",
       " 'Masses',\n",
       " 'ParticleIDs',\n",
       " 'scale',\n",
       " 'task',\n",
       " 'unique_counts',\n",
       " 'unique_ids',\n",
       " 'unique_indices']"
      ]
     },
     "execution_count": 10,
     "metadata": {},
     "output_type": "execute_result"
    }
   ],
   "source": [
    "mergers.keys()"
   ]
  },
  {
   "cell_type": "code",
   "execution_count": 22,
   "metadata": {},
   "outputs": [
    {
     "name": "stdout",
     "output_type": "stream",
     "text": [
      "Found parameters file: '/net/hernquistfs3/hernquistfs3/share_root/IllustrisTNG/Runs/L75n1820TNG/arepo/param.txt-usedvalues'\n",
      "Found 100 snapshot directories\n",
      "Snap 0: loading header info from '/net/hernquistfs3/hernquistfs3/share_root/IllustrisTNG/Runs/L75n1820TNG/output/snapdir_000/snap_000.144.hdf5'\n",
      "Files exist\n"
     ]
    }
   ],
   "source": [
    "reload(illpy_lib.illbh)\n",
    "import illpy_lib.illbh.details\n",
    "reload(illpy_lib.illbh.details)\n",
    "dets_t0 = illpy_lib.illbh.details.Details_TNG_Task(0, SIM_PATH, PROC_PATH, recreate=False, verbose=True)"
   ]
  },
  {
   "cell_type": "code",
   "execution_count": 7,
   "metadata": {},
   "outputs": [
    {
     "name": "stdout",
     "output_type": "stream",
     "text": [
      "\n",
      " 0 at 2020-10-19 14:00:31.431387 after 0:00:00.000116\n",
      "Found parameters file: '/net/hernquistfs3/hernquistfs3/share_root/IllustrisTNG/Runs/L75n1820TNG/arepo/param.txt-usedvalues'\n",
      "Found 100 snapshot directories\n",
      "Snap 0: loading header info from '/net/hernquistfs3/hernquistfs3/share_root/IllustrisTNG/Runs/L75n1820TNG/output/snapdir_000/snap_000.144.hdf5'\n",
      "Missing snap 0\n",
      "Running `_process()`; recreate: True, exists: False (/n/holystore01/LABS/hernquist_lab/Lab/ghernquist/lkelley/illustris-data/newer/L75n1820TNG/details_0000/bh-details_0000.hdf5)\n",
      "100 snapshots from cosmo\n",
      "First line: 'BH=103922973596 0.0898664 8.29689e-05 0.000162428 0.225433 60.5672'\n",
      "Loaded 181485 details from '/net/hernquistfs3/hernquistfs3/share_root/IllustrisTNG/Runs/L75n1820TNG/output/blackhole_details/blackhole_details_0.txt'\n",
      "Organizing into 100 snapshots [4.7513900000e-02...1.0000000000e+00]\n",
      "\n",
      "done at 2020-10-19 14:00:47.348944 after 0:00:15.917673\n"
     ]
    }
   ],
   "source": [
    "import datetime\n",
    "import illpy_lib.illbh.details\n",
    "beg = datetime.datetime.now()\n",
    "\n",
    "task = 0\n",
    "cosmo = None\n",
    "while task < 1e6:\n",
    "    now = datetime.datetime.now()\n",
    "    print(\"\\n\", task, \"at {} after {}\".format(now, now - beg))\n",
    "    try:\n",
    "        temp = illpy_lib.illbh.details.Details_TNG_Task(\n",
    "            task, SIM_PATH, PROC_PATH,\n",
    "            cosmo=cosmo, recreate=True, verbose=True)\n",
    "        cosmo = temp._cosmo\n",
    "    except FileNotFoundError as err:\n",
    "        print(f\"Completed with {task} tasks\")\n",
    "        break\n",
    "        \n",
    "    task += 1\n",
    "    break\n",
    "    \n",
    "now = datetime.datetime.now()\n",
    "print(\"\\ndone at {} after {}\".format(now, now - beg))"
   ]
  },
  {
   "cell_type": "code",
   "execution_count": null,
   "metadata": {},
   "outputs": [
    {
     "name": "stderr",
     "output_type": "stream",
     "text": [
      "WARNING:root:Loading MPI...\n"
     ]
    }
   ],
   "source": [
    "illpy_lib.illbh.details.process_details_snaps__tng(\n",
    "    SIM_PATH, PROC_PATH, recreate=True, verbose=True)"
   ]
  },
  {
   "cell_type": "code",
   "execution_count": null,
   "metadata": {},
   "outputs": [],
   "source": [
    "dets = illpy_lib.illbh.details.Details_TNG(\n",
    "    SIM_PATH, processed_path=PROC_PATH, recreate=False, verbose=True)"
   ]
  },
  {
   "cell_type": "code",
   "execution_count": null,
   "metadata": {
    "collapsed": true
   },
   "outputs": [],
   "source": [
    "snaps = illpy_lib.illbh.snapshots.Snapshots_TNG(SIM_PATH, processed_path=PROC_PATH, recreate=True)"
   ]
  },
  {
   "cell_type": "code",
   "execution_count": null,
   "metadata": {},
   "outputs": [],
   "source": []
  }
 ],
 "metadata": {
  "kernelspec": {
   "display_name": "py38_basic",
   "language": "python",
   "name": "py38_basic"
  },
  "language_info": {
   "codemirror_mode": {
    "name": "ipython",
    "version": 3
   },
   "file_extension": ".py",
   "mimetype": "text/x-python",
   "name": "python",
   "nbconvert_exporter": "python",
   "pygments_lexer": "ipython3",
   "version": "3.8.5"
  }
 },
 "nbformat": 4,
 "nbformat_minor": 4
}
