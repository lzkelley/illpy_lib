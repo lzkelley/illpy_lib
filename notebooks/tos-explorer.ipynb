{
 "cells": [
  {
   "cell_type": "code",
   "execution_count": 3,
   "metadata": {},
   "outputs": [
    {
     "name": "stdout",
     "output_type": "stream",
     "text": [
      "done\n"
     ]
    }
   ],
   "source": [
    "# %load init.ipy\n",
    "%reload_ext autoreload\n",
    "%autoreload 2\n",
    "\n",
    "from importlib import reload\n",
    "\n",
    "# import os\n",
    "# import sys\n",
    "# import logging\n",
    "import warnings\n",
    "# import glob\n",
    "# from collections import OrderedDict\n",
    "\n",
    "import numpy as np\n",
    "import matplotlib.pyplot as plt\n",
    "import matplotlib as mpl\n",
    "# import scipy as sp\n",
    "# import scipy.interpolate\n",
    "# import astropy as ap\n",
    "# import h5py\n",
    "\n",
    "\n",
    "# --- LZK Libs ---\n",
    "\n",
    "import zcode.math as zmath\n",
    "import zcode.plot as zplot\n",
    "# import zcode.astro as zastro\n",
    "from zcode.constants import *\n",
    "import zcode.inout as zio\n",
    "\n",
    "# import kalepy as kale\n",
    "\n",
    "\n",
    "# --- Arepo / Illustris ---\n",
    "\n",
    "import illpy\n",
    "import illpy_lib\n",
    "import illpy_lib.illcosmo\n",
    "import illpy_lib.illbh\n",
    "# import illpy_lib.illbh.mergers\n",
    "# import illpy_lib.illbh.details\n",
    "# import illpy_lib.illbh.snapshots\n",
    "# import illpy_lib.illbh.groupcats\n",
    "\n",
    "from illpy_lib.illbh import BH_TYPE\n",
    "\n",
    "\n",
    "# --- Generic Setup ---\n",
    "\n",
    "# Silence annoying numpy errors\n",
    "np.seterr(divide='ignore', invalid='ignore', over='ignore');\n",
    "%precision %.2g\n",
    "\n",
    "warnings.filterwarnings(\"ignore\", category=UserWarning)\n",
    "\n",
    "# Plotting settings\n",
    "mpl.rc('font', **{'family': 'serif', 'sans-serif': ['Times'], 'size': 12})\n",
    "mpl.rc('lines', solid_capstyle='round')\n",
    "mpl.rc('mathtext', fontset='cm')\n",
    "plt.rcParams.update({'grid.alpha': 0.5})\n",
    "\n",
    "\n",
    "# --- Project Setup ---\n",
    "\n",
    "# PATH_BASE = \"/blue/lblecha/lkelley/arepo_sims/cosmo_zooms/dynamics-comparison\"\n",
    "# PATH_BASE = \"/Volumes/Smally/arepo_sims/\"\n",
    "\n",
    "# SIM_NAME = \"bh_new_centering\"\n",
    "\n",
    "# sim_path = os.path.join(PATH_BASE, SIM_NAME, 'output', '')\n",
    "\n",
    "# PATH = (\n",
    "# #     \"/Volumes/Smally/arepo_sims/\"\n",
    "# #     \"bh_new_centering/output\"\n",
    "#     \"new-log_pos-test/output\"\n",
    "# #     \"/Volumes/Smally/log_test_data/\"\n",
    "# )\n",
    "\n",
    "# SIM_PATHS = [\n",
    "#     \"bh_new_centering\",\n",
    "#     \"repos-potmin\",\n",
    "#     \"unalt-dyn\"\n",
    "# ]\n",
    "\n",
    "print(\"done\")"
   ]
  },
  {
   "cell_type": "code",
   "execution_count": 4,
   "metadata": {},
   "outputs": [],
   "source": [
    "# --- TNG ---\n",
    "# SIM_PATH = (\n",
    "#     \"/net/hernquistfs3/hernquistfs3/share_root/IllustrisTNG/Runs/\"\n",
    "#     \"L75n1820TNG/\"\n",
    "# )\n",
    "# PROC_PATH = (\n",
    "#     \"/n/holystore01/LABS/hernquist_lab/Lab/ghernquist/lkelley/illustris-data/newer/\"\n",
    "#     \"L75n1820TNG/\"\n",
    "# )\n",
    "\n",
    "# --- TOS ---\n",
    "SIM_PATH = (\n",
    "    \"/n/holystore01/LABS/hernquist_lab/Lab/Illustris/Runs/\"\n",
    "    \"L75n1820FP/\"\n",
    ")\n",
    "PROC_PATH = (\n",
    "    \"/n/holystore01/LABS/hernquist_lab/Lab/ghernquist/lkelley/illustris-data/newer/\"\n",
    "    \"L75n1820FP/\"\n",
    ")"
   ]
  },
  {
   "cell_type": "code",
   "execution_count": 5,
   "metadata": {},
   "outputs": [
    {
     "name": "stdout",
     "output_type": "stream",
     "text": [
      "Running `_process()`; recreate: True, exists: False (/n/holystore01/LABS/hernquist_lab/Lab/ghernquist/lkelley/illustris-data/newer/L75n1820FP/bh-snapshots/bh-snapshots_135.hdf5)\n",
      "Loaded header time=1.00000000, nbh=32552\n",
      "Loaded 32552 BHs from snapshot 135\n",
      "Saved data to '/n/holystore01/LABS/hernquist_lab/Lab/ghernquist/lkelley/illustris-data/newer/L75n1820FP/bh-snapshots/bh-snapshots_135.hdf5' size 4.0 MB\n",
      "Loaded      32552 entries from '/n/holystore01/LABS/hernquist_lab/Lab/ghernquist/lkelley/illustris-data/newer/L75n1820FP/bh-snapshots/bh-snapshots_135.hdf5', created '2020-10-19 16:14:05.293116'\n",
      "Running `_process()`; recreate: True, exists: True (/n/holystore01/LABS/hernquist_lab/Lab/ghernquist/lkelley/illustris-data/newer/L75n1820FP/bh-snapshots/bh-snapshots_135.hdf5)\n",
      "Loaded header time=1.00000000, nbh=32552\n",
      "Loaded 32552 BHs from snapshot 135\n",
      "Saved data to '/n/holystore01/LABS/hernquist_lab/Lab/ghernquist/lkelley/illustris-data/newer/L75n1820FP/bh-snapshots/bh-snapshots_135.hdf5' size 4.0 MB\n",
      "Loaded      32552 entries from '/n/holystore01/LABS/hernquist_lab/Lab/ghernquist/lkelley/illustris-data/newer/L75n1820FP/bh-snapshots/bh-snapshots_135.hdf5', created '2020-10-19 16:14:17.833251'\n"
     ]
    }
   ],
   "source": [
    "import illpy_lib.illbh.snapshots\n",
    "reload(illpy_lib.illbh.snapshots)\n",
    "snap_135 = illpy_lib.illbh.snapshots.Snapshots_Snap(135, SIM_PATH, PROC_PATH, recreate=True)\n",
    "# snaps = illpy_lib.illbh.snapshots.Snapshots(SIM_PATH, PROC_PATH, recreate=False, verbose=True)"
   ]
  },
  {
   "cell_type": "code",
   "execution_count": 12,
   "metadata": {},
   "outputs": [
    {
     "name": "stderr",
     "output_type": "stream",
     "text": [
      "\r",
      "files:   0%|          | 0/40378 [00:00<?, ?it/s]"
     ]
    },
    {
     "name": "stdout",
     "output_type": "stream",
     "text": [
      "Running `_process()`; recreate: True, exists: False (/n/holystore01/LABS/hernquist_lab/Lab/ghernquist/lkelley/illustris-data/newer/L75n1820FP/bh-mergers.hdf5)\n",
      "Found 8192 files in /n/holystore01/LABS/hernquist_lab/Lab/Illustris/Runs/L75n1820FP/txt-files/txtfiles_new/txt-files-supermuc/blackhole_mergers\n",
      "Found 16 files in /n/holystore01/LABS/hernquist_lab/Lab/Illustris/Runs/L75n1820FP/txt-files/txtfiles_new/txt-files-partial/Aug14/blackhole_mergers\n",
      "Found 8176 files in /n/holystore01/LABS/hernquist_lab/Lab/Illustris/Runs/L75n1820FP/txt-files/txtfiles_new/txt-files-partial/Aug8/blackhole_mergers\n",
      "Found 8192 files in /n/holystore01/LABS/hernquist_lab/Lab/Illustris/Runs/L75n1820FP/txt-files/txtfiles_new/txt-files-partial/Oct10/blackhole_mergers\n",
      "Found 7610 files in /n/holystore01/LABS/hernquist_lab/Lab/Illustris/Runs/L75n1820FP/txt-files/txtfiles_new/txt-files-partial/Sep25/blackhole_mergers\n",
      "Found 8192 files in /n/holystore01/LABS/hernquist_lab/Lab/Illustris/Runs/L75n1820FP/txt-files/txtfiles_new/txt-files-curie/blackhole_mergers\n",
      "Found 40378 files\n",
      "Found 40378 merger files\n",
      "first merger line: '8191 0.970173 9223372043415115501 0.000132111 9223372040390687927 0.000154261'\n"
     ]
    },
    {
     "name": "stderr",
     "output_type": "stream",
     "text": [
      "files:  27%|██▋       | 10805/40378 [01:08<02:45, 178.25it/s]ERROR:root:file: 10816, /n/holystore01/LABS/hernquist_lab/Lab/Illustris/Runs/L75n1820FP/txt-files/txtfiles_new/txt-files-partial/Aug8/blackhole_mergers/blackhole_mergers_549.txt - line: 1 - scale:0.64111300 is before previous:0.64144500!\n",
      "files:  27%|██▋       | 10816/40378 [01:09<03:08, 156.65it/s]\n"
     ]
    },
    {
     "ename": "ValueError",
     "evalue": "file: 10816, /n/holystore01/LABS/hernquist_lab/Lab/Illustris/Runs/L75n1820FP/txt-files/txtfiles_new/txt-files-partial/Aug8/blackhole_mergers/blackhole_mergers_549.txt - line: 1 - scale:0.64111300 is before previous:0.64144500!",
     "output_type": "error",
     "traceback": [
      "\u001b[0;31m---------------------------------------------------------------------------\u001b[0m",
      "\u001b[0;31mValueError\u001b[0m                                Traceback (most recent call last)",
      "\u001b[0;32m<ipython-input-12-2312a4090055>\u001b[0m in \u001b[0;36m<module>\u001b[0;34m\u001b[0m\n\u001b[1;32m      1\u001b[0m \u001b[0;32mimport\u001b[0m \u001b[0millpy_lib\u001b[0m\u001b[0;34m.\u001b[0m\u001b[0millbh\u001b[0m\u001b[0;34m.\u001b[0m\u001b[0mmergers\u001b[0m\u001b[0;34m\u001b[0m\u001b[0;34m\u001b[0m\u001b[0m\n\u001b[1;32m      2\u001b[0m \u001b[0mreload\u001b[0m\u001b[0;34m(\u001b[0m\u001b[0millpy_lib\u001b[0m\u001b[0;34m.\u001b[0m\u001b[0millbh\u001b[0m\u001b[0;34m.\u001b[0m\u001b[0mmergers\u001b[0m\u001b[0;34m)\u001b[0m\u001b[0;34m\u001b[0m\u001b[0;34m\u001b[0m\u001b[0m\n\u001b[0;32m----> 3\u001b[0;31m \u001b[0mmergers\u001b[0m \u001b[0;34m=\u001b[0m \u001b[0millpy_lib\u001b[0m\u001b[0;34m.\u001b[0m\u001b[0millbh\u001b[0m\u001b[0;34m.\u001b[0m\u001b[0mmergers\u001b[0m\u001b[0;34m.\u001b[0m\u001b[0mMergers_TOS\u001b[0m\u001b[0;34m(\u001b[0m\u001b[0mSIM_PATH\u001b[0m\u001b[0;34m,\u001b[0m \u001b[0mPROC_PATH\u001b[0m\u001b[0;34m,\u001b[0m \u001b[0mrecreate\u001b[0m\u001b[0;34m=\u001b[0m\u001b[0;32mTrue\u001b[0m\u001b[0;34m,\u001b[0m \u001b[0mverbose\u001b[0m\u001b[0;34m=\u001b[0m\u001b[0;32mTrue\u001b[0m\u001b[0;34m)\u001b[0m\u001b[0;34m\u001b[0m\u001b[0;34m\u001b[0m\u001b[0m\n\u001b[0m",
      "\u001b[0;32m~/research/arepo/illpy_lib/illpy_lib/illbh/mergers.py\u001b[0m in \u001b[0;36m__init__\u001b[0;34m(self, *args, **kwargs)\u001b[0m\n\u001b[1;32m     27\u001b[0m         \u001b[0msuper\u001b[0m\u001b[0;34m(\u001b[0m\u001b[0;34m)\u001b[0m\u001b[0;34m.\u001b[0m\u001b[0m__init__\u001b[0m\u001b[0;34m(\u001b[0m\u001b[0;34m*\u001b[0m\u001b[0margs\u001b[0m\u001b[0;34m,\u001b[0m \u001b[0;34m**\u001b[0m\u001b[0mkwargs\u001b[0m\u001b[0;34m)\u001b[0m\u001b[0;34m\u001b[0m\u001b[0;34m\u001b[0m\u001b[0m\n\u001b[1;32m     28\u001b[0m         \u001b[0mfname\u001b[0m \u001b[0;34m=\u001b[0m \u001b[0mself\u001b[0m\u001b[0;34m.\u001b[0m\u001b[0mfilename\u001b[0m\u001b[0;34m(\u001b[0m\u001b[0;34m)\u001b[0m\u001b[0;34m\u001b[0m\u001b[0;34m\u001b[0m\u001b[0m\n\u001b[0;32m---> 29\u001b[0;31m         \u001b[0mself\u001b[0m\u001b[0;34m.\u001b[0m\u001b[0m_load\u001b[0m\u001b[0;34m(\u001b[0m\u001b[0mfname\u001b[0m\u001b[0;34m,\u001b[0m \u001b[0mself\u001b[0m\u001b[0;34m.\u001b[0m\u001b[0m_recreate\u001b[0m\u001b[0;34m)\u001b[0m\u001b[0;34m\u001b[0m\u001b[0;34m\u001b[0m\u001b[0m\n\u001b[0m\u001b[1;32m     30\u001b[0m         \u001b[0;32mreturn\u001b[0m\u001b[0;34m\u001b[0m\u001b[0;34m\u001b[0m\u001b[0m\n\u001b[1;32m     31\u001b[0m \u001b[0;34m\u001b[0m\u001b[0m\n",
      "\u001b[0;32m~/research/arepo/illpy_lib/illpy_lib/illbh/__init__.py\u001b[0m in \u001b[0;36m_load\u001b[0;34m(self, fname, recreate)\u001b[0m\n\u001b[1;32m    193\u001b[0m                 print(\"Running `_process()`; recreate: {}, exists: {} ({})\".format(\n\u001b[1;32m    194\u001b[0m                     recreate, exists, fname))\n\u001b[0;32m--> 195\u001b[0;31m             \u001b[0mself\u001b[0m\u001b[0;34m.\u001b[0m\u001b[0m_process\u001b[0m\u001b[0;34m(\u001b[0m\u001b[0;34m)\u001b[0m\u001b[0;34m\u001b[0m\u001b[0;34m\u001b[0m\u001b[0m\n\u001b[0m\u001b[1;32m    196\u001b[0m \u001b[0;34m\u001b[0m\u001b[0m\n\u001b[1;32m    197\u001b[0m         \u001b[0mself\u001b[0m\u001b[0;34m.\u001b[0m\u001b[0m_load_from_save\u001b[0m\u001b[0;34m(\u001b[0m\u001b[0mfname\u001b[0m\u001b[0;34m)\u001b[0m\u001b[0;34m\u001b[0m\u001b[0;34m\u001b[0m\u001b[0m\n",
      "\u001b[0;32m~/research/arepo/illpy_lib/illpy_lib/illbh/mergers.py\u001b[0m in \u001b[0;36m_process\u001b[0;34m(self)\u001b[0m\n\u001b[1;32m    118\u001b[0m \u001b[0;34m\u001b[0m\u001b[0m\n\u001b[1;32m    119\u001b[0m         \u001b[0;31m# Load merger events directly from Illustris blackhole_mergers txt files, unmodified\u001b[0m\u001b[0;34m\u001b[0m\u001b[0;34m\u001b[0m\u001b[0;34m\u001b[0m\u001b[0m\n\u001b[0;32m--> 120\u001b[0;31m         \u001b[0mmrgs\u001b[0m \u001b[0;34m=\u001b[0m \u001b[0mself\u001b[0m\u001b[0;34m.\u001b[0m\u001b[0m_load_raw_mergers\u001b[0m\u001b[0;34m(\u001b[0m\u001b[0;34m)\u001b[0m\u001b[0;34m\u001b[0m\u001b[0;34m\u001b[0m\u001b[0m\n\u001b[0m\u001b[1;32m    121\u001b[0m         \u001b[0;32mif\u001b[0m \u001b[0mself\u001b[0m\u001b[0;34m.\u001b[0m\u001b[0m_verbose\u001b[0m\u001b[0;34m:\u001b[0m\u001b[0;34m\u001b[0m\u001b[0;34m\u001b[0m\u001b[0m\n\u001b[1;32m    122\u001b[0m             \u001b[0mprint\u001b[0m\u001b[0;34m(\u001b[0m\u001b[0;34m\"Loaded \"\u001b[0m\u001b[0;34m,\u001b[0m \u001b[0mmrgs\u001b[0m\u001b[0;34m[\u001b[0m\u001b[0mKEYS\u001b[0m\u001b[0;34m.\u001b[0m\u001b[0mSCALE\u001b[0m\u001b[0;34m]\u001b[0m\u001b[0;34m.\u001b[0m\u001b[0msize\u001b[0m\u001b[0;34m,\u001b[0m \u001b[0;34m\"mergers\"\u001b[0m\u001b[0;34m)\u001b[0m\u001b[0;34m\u001b[0m\u001b[0;34m\u001b[0m\u001b[0m\n",
      "\u001b[0;32m~/research/arepo/illpy_lib/illpy_lib/illbh/mergers.py\u001b[0m in \u001b[0;36m_load_raw_mergers\u001b[0;34m(self)\u001b[0m\n\u001b[1;32m     74\u001b[0m                     \u001b[0merr\u001b[0m \u001b[0;34m=\u001b[0m \u001b[0merr\u001b[0m\u001b[0;34m.\u001b[0m\u001b[0mformat\u001b[0m\u001b[0;34m(\u001b[0m\u001b[0mii\u001b[0m\u001b[0;34m,\u001b[0m \u001b[0mmf\u001b[0m\u001b[0;34m,\u001b[0m \u001b[0mll\u001b[0m\u001b[0;34m,\u001b[0m \u001b[0msc\u001b[0m\u001b[0;34m,\u001b[0m \u001b[0mprev\u001b[0m\u001b[0;34m)\u001b[0m\u001b[0;34m\u001b[0m\u001b[0;34m\u001b[0m\u001b[0m\n\u001b[1;32m     75\u001b[0m                     \u001b[0mlogging\u001b[0m\u001b[0;34m.\u001b[0m\u001b[0merror\u001b[0m\u001b[0;34m(\u001b[0m\u001b[0merr\u001b[0m\u001b[0;34m)\u001b[0m\u001b[0;34m\u001b[0m\u001b[0;34m\u001b[0m\u001b[0m\n\u001b[0;32m---> 76\u001b[0;31m                     \u001b[0;32mraise\u001b[0m \u001b[0mValueError\u001b[0m\u001b[0;34m(\u001b[0m\u001b[0merr\u001b[0m\u001b[0;34m)\u001b[0m\u001b[0;34m\u001b[0m\u001b[0;34m\u001b[0m\u001b[0m\n\u001b[0m\u001b[1;32m     77\u001b[0m \u001b[0;34m\u001b[0m\u001b[0m\n\u001b[1;32m     78\u001b[0m                 \u001b[0mmergers\u001b[0m\u001b[0;34m.\u001b[0m\u001b[0mappend\u001b[0m\u001b[0;34m(\u001b[0m\u001b[0mvals\u001b[0m\u001b[0;34m)\u001b[0m\u001b[0;34m\u001b[0m\u001b[0;34m\u001b[0m\u001b[0m\n",
      "\u001b[0;31mValueError\u001b[0m: file: 10816, /n/holystore01/LABS/hernquist_lab/Lab/Illustris/Runs/L75n1820FP/txt-files/txtfiles_new/txt-files-partial/Aug8/blackhole_mergers/blackhole_mergers_549.txt - line: 1 - scale:0.64111300 is before previous:0.64144500!"
     ]
    }
   ],
   "source": [
    "import illpy_lib.illbh.mergers\n",
    "reload(illpy_lib.illbh.mergers)\n",
    "mergers = illpy_lib.illbh.mergers.Mergers_TOS(SIM_PATH, PROC_PATH, recreate=True, verbose=True)"
   ]
  },
  {
   "cell_type": "code",
   "execution_count": 10,
   "metadata": {},
   "outputs": [
    {
     "data": {
      "text/plain": [
       "['BH_Mass',\n",
       " 'Masses',\n",
       " 'ParticleIDs',\n",
       " 'scale',\n",
       " 'task',\n",
       " 'unique_counts',\n",
       " 'unique_ids',\n",
       " 'unique_indices']"
      ]
     },
     "execution_count": 10,
     "metadata": {},
     "output_type": "execute_result"
    }
   ],
   "source": [
    "mergers.keys()"
   ]
  },
  {
   "cell_type": "code",
   "execution_count": 22,
   "metadata": {},
   "outputs": [
    {
     "name": "stdout",
     "output_type": "stream",
     "text": [
      "Found parameters file: '/net/hernquistfs3/hernquistfs3/share_root/IllustrisTNG/Runs/L75n1820TNG/arepo/param.txt-usedvalues'\n",
      "Found 100 snapshot directories\n",
      "Snap 0: loading header info from '/net/hernquistfs3/hernquistfs3/share_root/IllustrisTNG/Runs/L75n1820TNG/output/snapdir_000/snap_000.144.hdf5'\n",
      "Files exist\n"
     ]
    }
   ],
   "source": [
    "reload(illpy_lib.illbh)\n",
    "import illpy_lib.illbh.details\n",
    "reload(illpy_lib.illbh.details)\n",
    "dets_t0 = illpy_lib.illbh.details.Details_TNG_Task(0, SIM_PATH, PROC_PATH, recreate=False, verbose=True)"
   ]
  },
  {
   "cell_type": "code",
   "execution_count": 7,
   "metadata": {},
   "outputs": [
    {
     "name": "stdout",
     "output_type": "stream",
     "text": [
      "\n",
      " 0 at 2020-10-19 14:00:31.431387 after 0:00:00.000116\n",
      "Found parameters file: '/net/hernquistfs3/hernquistfs3/share_root/IllustrisTNG/Runs/L75n1820TNG/arepo/param.txt-usedvalues'\n",
      "Found 100 snapshot directories\n",
      "Snap 0: loading header info from '/net/hernquistfs3/hernquistfs3/share_root/IllustrisTNG/Runs/L75n1820TNG/output/snapdir_000/snap_000.144.hdf5'\n",
      "Missing snap 0\n",
      "Running `_process()`; recreate: True, exists: False (/n/holystore01/LABS/hernquist_lab/Lab/ghernquist/lkelley/illustris-data/newer/L75n1820TNG/details_0000/bh-details_0000.hdf5)\n",
      "100 snapshots from cosmo\n",
      "First line: 'BH=103922973596 0.0898664 8.29689e-05 0.000162428 0.225433 60.5672'\n",
      "Loaded 181485 details from '/net/hernquistfs3/hernquistfs3/share_root/IllustrisTNG/Runs/L75n1820TNG/output/blackhole_details/blackhole_details_0.txt'\n",
      "Organizing into 100 snapshots [4.7513900000e-02...1.0000000000e+00]\n",
      "\n",
      "done at 2020-10-19 14:00:47.348944 after 0:00:15.917673\n"
     ]
    }
   ],
   "source": [
    "import datetime\n",
    "import illpy_lib.illbh.details\n",
    "beg = datetime.datetime.now()\n",
    "\n",
    "task = 0\n",
    "cosmo = None\n",
    "while task < 1e6:\n",
    "    now = datetime.datetime.now()\n",
    "    print(\"\\n\", task, \"at {} after {}\".format(now, now - beg))\n",
    "    try:\n",
    "        temp = illpy_lib.illbh.details.Details_TNG_Task(\n",
    "            task, SIM_PATH, PROC_PATH,\n",
    "            cosmo=cosmo, recreate=True, verbose=True)\n",
    "        cosmo = temp._cosmo\n",
    "    except FileNotFoundError as err:\n",
    "        print(f\"Completed with {task} tasks\")\n",
    "        break\n",
    "        \n",
    "    task += 1\n",
    "    break\n",
    "    \n",
    "now = datetime.datetime.now()\n",
    "print(\"\\ndone at {} after {}\".format(now, now - beg))"
   ]
  },
  {
   "cell_type": "code",
   "execution_count": null,
   "metadata": {},
   "outputs": [
    {
     "name": "stderr",
     "output_type": "stream",
     "text": [
      "WARNING:root:Loading MPI...\n"
     ]
    }
   ],
   "source": [
    "illpy_lib.illbh.details.process_details_snaps__tng(\n",
    "    SIM_PATH, PROC_PATH, recreate=True, verbose=True)"
   ]
  },
  {
   "cell_type": "code",
   "execution_count": null,
   "metadata": {},
   "outputs": [],
   "source": [
    "dets = illpy_lib.illbh.details.Details_TNG(\n",
    "    SIM_PATH, processed_path=PROC_PATH, recreate=False, verbose=True)"
   ]
  },
  {
   "cell_type": "code",
   "execution_count": null,
   "metadata": {
    "collapsed": true
   },
   "outputs": [],
   "source": [
    "snaps = illpy_lib.illbh.snapshots.Snapshots_TNG(SIM_PATH, processed_path=PROC_PATH, recreate=True)"
   ]
  },
  {
   "cell_type": "code",
   "execution_count": null,
   "metadata": {},
   "outputs": [],
   "source": []
  }
 ],
 "metadata": {
  "kernelspec": {
   "display_name": "py38_basic",
   "language": "python",
   "name": "py38_basic"
  },
  "language_info": {
   "codemirror_mode": {
    "name": "ipython",
    "version": 3
   },
   "file_extension": ".py",
   "mimetype": "text/x-python",
   "name": "python",
   "nbconvert_exporter": "python",
   "pygments_lexer": "ipython3",
   "version": "3.8.5"
  }
 },
 "nbformat": 4,
 "nbformat_minor": 4
}
