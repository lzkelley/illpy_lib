{
 "cells": [
  {
   "cell_type": "code",
   "execution_count": 1,
   "metadata": {},
   "outputs": [
    {
     "name": "stdout",
     "output_type": "stream",
     "text": [
      "done\n"
     ]
    }
   ],
   "source": [
    "# %load init.ipy\n",
    "%reload_ext autoreload\n",
    "%autoreload 2\n",
    "\n",
    "from importlib import reload\n",
    "\n",
    "import os\n",
    "import sys\n",
    "import logging\n",
    "import warnings\n",
    "import glob\n",
    "# from collections import OrderedDict\n",
    "\n",
    "import numpy as np\n",
    "import matplotlib.pyplot as plt\n",
    "import matplotlib as mpl\n",
    "# import scipy as sp\n",
    "# import scipy.interpolate\n",
    "# import astropy as ap\n",
    "# import h5py\n",
    "\n",
    "\n",
    "# --- LZK Libs ---\n",
    "\n",
    "import zcode.math as zmath\n",
    "import zcode.plot as zplot\n",
    "# import zcode.astro as zastro\n",
    "from zcode.constants import *\n",
    "import zcode.inout as zio\n",
    "\n",
    "# import kalepy as kale\n",
    "\n",
    "\n",
    "# --- Arepo / Illustris ---\n",
    "\n",
    "import illpy\n",
    "import illpy_lib\n",
    "import illpy_lib.illcosmo\n",
    "import illpy_lib.illbh\n",
    "# import illpy_lib.illbh.mergers\n",
    "# import illpy_lib.illbh.details\n",
    "# import illpy_lib.illbh.snapshots\n",
    "# import illpy_lib.illbh.groupcats\n",
    "\n",
    "from illpy_lib.illbh import BH_TYPE\n",
    "\n",
    "\n",
    "# --- Generic Setup ---\n",
    "\n",
    "# Silence annoying numpy errors\n",
    "np.seterr(divide='ignore', invalid='ignore', over='ignore');\n",
    "%precision %.2g\n",
    "\n",
    "warnings.filterwarnings(\"ignore\", category=UserWarning)\n",
    "\n",
    "# Plotting settings\n",
    "mpl.rc('font', **{'family': 'serif', 'sans-serif': ['Times'], 'size': 12})\n",
    "mpl.rc('lines', solid_capstyle='round')\n",
    "mpl.rc('mathtext', fontset='cm')\n",
    "plt.rcParams.update({'grid.alpha': 0.5})\n",
    "\n",
    "\n",
    "# --- Project Setup ---\n",
    "\n",
    "# PATH_BASE = \"/blue/lblecha/lkelley/arepo_sims/cosmo_zooms/dynamics-comparison\"\n",
    "# PATH_BASE = \"/Volumes/Smally/arepo_sims/\"\n",
    "\n",
    "# SIM_NAME = \"bh_new_centering\"\n",
    "\n",
    "# sim_path = os.path.join(PATH_BASE, SIM_NAME, 'output', '')\n",
    "\n",
    "# PATH = (\n",
    "# #     \"/Volumes/Smally/arepo_sims/\"\n",
    "# #     \"bh_new_centering/output\"\n",
    "#     \"new-log_pos-test/output\"\n",
    "# #     \"/Volumes/Smally/log_test_data/\"\n",
    "# )\n",
    "\n",
    "# SIM_PATHS = [\n",
    "#     \"bh_new_centering\",\n",
    "#     \"repos-potmin\",\n",
    "#     \"unalt-dyn\"\n",
    "# ]\n",
    "\n",
    "print(\"done\")"
   ]
  },
  {
   "cell_type": "code",
   "execution_count": 2,
   "metadata": {},
   "outputs": [],
   "source": [
    "# --- TNG ---\n",
    "# SIM_PATH = (\n",
    "#     \"/net/hernquistfs3/hernquistfs3/share_root/IllustrisTNG/Runs/\"\n",
    "#     \"L75n1820TNG/\"\n",
    "# )\n",
    "# PROC_PATH = (\n",
    "#     \"/n/holystore01/LABS/hernquist_lab/Lab/ghernquist/lkelley/illustris-data/newer/\"\n",
    "#     \"L75n1820TNG/\"\n",
    "# )\n",
    "\n",
    "# --- TOS ---\n",
    "SIM_PATH = (\n",
    "    \"/n/holystore01/LABS/hernquist_lab/Lab/Illustris/Runs/\"\n",
    "    \"L75n1820FP/\"\n",
    ")\n",
    "PROC_PATH = (\n",
    "    \"/n/holystore01/LABS/hernquist_lab/Lab/ghernquist/lkelley/illustris-data/newer/\"\n",
    "    \"L75n1820FP/\"\n",
    ")"
   ]
  },
  {
   "cell_type": "code",
   "execution_count": 3,
   "metadata": {},
   "outputs": [
    {
     "data": {
      "text/plain": [
       "<module 'illpy_lib.illbh.snapshots' from '/n/holystore01/LABS/hernquist_lab/Lab/ghernquist/lkelley/research/arepo/illpy_lib/illpy_lib/illbh/snapshots.py'>"
      ]
     },
     "execution_count": 3,
     "metadata": {},
     "output_type": "execute_result"
    }
   ],
   "source": [
    "import illpy_lib.illbh.snapshots\n",
    "reload(illpy_lib.illbh.snapshots)\n",
    "# snap_135 = illpy_lib.illbh.snapshots.Snapshots_Snap(135, SIM_PATH, PROC_PATH, recreate=True)\n",
    "# snaps = illpy_lib.illbh.snapshots.Snapshots(SIM_PATH, PROC_PATH, recreate=False, verbose=True)"
   ]
  },
  {
   "cell_type": "code",
   "execution_count": 5,
   "metadata": {},
   "outputs": [
    {
     "name": "stdout",
     "output_type": "stream",
     "text": [
      "Loaded          0 entries from '/n/holystore01/LABS/hernquist_lab/Lab/ghernquist/lkelley/illustris-data/newer/L75n1820FP/bh-snapshots/bh-snapshots_000.hdf5', created '2020-10-19 16:42:37.998830'\n",
      "Loaded          0 entries from '/n/holystore01/LABS/hernquist_lab/Lab/ghernquist/lkelley/illustris-data/newer/L75n1820FP/bh-snapshots/bh-snapshots_000.hdf5', created '2020-10-19 16:42:37.998830'\n",
      "Loaded          0 entries from '/n/holystore01/LABS/hernquist_lab/Lab/ghernquist/lkelley/illustris-data/newer/L75n1820FP/bh-snapshots/bh-snapshots_001.hdf5', created '2020-10-19 16:43:39.581444'\n",
      "Loaded          0 entries from '/n/holystore01/LABS/hernquist_lab/Lab/ghernquist/lkelley/illustris-data/newer/L75n1820FP/bh-snapshots/bh-snapshots_001.hdf5', created '2020-10-19 16:43:39.581444'\n",
      "Loaded          0 entries from '/n/holystore01/LABS/hernquist_lab/Lab/ghernquist/lkelley/illustris-data/newer/L75n1820FP/bh-snapshots/bh-snapshots_002.hdf5', created '2020-10-19 16:41:30.759527'\n",
      "Loaded          0 entries from '/n/holystore01/LABS/hernquist_lab/Lab/ghernquist/lkelley/illustris-data/newer/L75n1820FP/bh-snapshots/bh-snapshots_002.hdf5', created '2020-10-19 16:41:30.759527'\n",
      "Loaded          0 entries from '/n/holystore01/LABS/hernquist_lab/Lab/ghernquist/lkelley/illustris-data/newer/L75n1820FP/bh-snapshots/bh-snapshots_003.hdf5', created '2020-10-19 16:41:30.896395'\n",
      "Loaded          0 entries from '/n/holystore01/LABS/hernquist_lab/Lab/ghernquist/lkelley/illustris-data/newer/L75n1820FP/bh-snapshots/bh-snapshots_003.hdf5', created '2020-10-19 16:41:30.896395'\n",
      "Loaded          0 entries from '/n/holystore01/LABS/hernquist_lab/Lab/ghernquist/lkelley/illustris-data/newer/L75n1820FP/bh-snapshots/bh-snapshots_004.hdf5', created '2020-10-19 16:42:26.511794'\n",
      "Loaded          0 entries from '/n/holystore01/LABS/hernquist_lab/Lab/ghernquist/lkelley/illustris-data/newer/L75n1820FP/bh-snapshots/bh-snapshots_004.hdf5', created '2020-10-19 16:42:26.511794'\n",
      "Loaded          0 entries from '/n/holystore01/LABS/hernquist_lab/Lab/ghernquist/lkelley/illustris-data/newer/L75n1820FP/bh-snapshots/bh-snapshots_005.hdf5', created '2020-10-19 16:42:38.636456'\n",
      "Loaded          0 entries from '/n/holystore01/LABS/hernquist_lab/Lab/ghernquist/lkelley/illustris-data/newer/L75n1820FP/bh-snapshots/bh-snapshots_005.hdf5', created '2020-10-19 16:42:38.636456'\n",
      "Loaded          0 entries from '/n/holystore01/LABS/hernquist_lab/Lab/ghernquist/lkelley/illustris-data/newer/L75n1820FP/bh-snapshots/bh-snapshots_006.hdf5', created '2020-10-19 16:42:39.298207'\n",
      "Loaded          0 entries from '/n/holystore01/LABS/hernquist_lab/Lab/ghernquist/lkelley/illustris-data/newer/L75n1820FP/bh-snapshots/bh-snapshots_006.hdf5', created '2020-10-19 16:42:39.298207'\n",
      "Loaded          0 entries from '/n/holystore01/LABS/hernquist_lab/Lab/ghernquist/lkelley/illustris-data/newer/L75n1820FP/bh-snapshots/bh-snapshots_007.hdf5', created '2020-10-19 16:43:13.511665'\n",
      "Loaded          0 entries from '/n/holystore01/LABS/hernquist_lab/Lab/ghernquist/lkelley/illustris-data/newer/L75n1820FP/bh-snapshots/bh-snapshots_007.hdf5', created '2020-10-19 16:43:13.511665'\n",
      "Loaded          0 entries from '/n/holystore01/LABS/hernquist_lab/Lab/ghernquist/lkelley/illustris-data/newer/L75n1820FP/bh-snapshots/bh-snapshots_008.hdf5', created '2020-10-19 16:41:30.580314'\n",
      "Loaded          0 entries from '/n/holystore01/LABS/hernquist_lab/Lab/ghernquist/lkelley/illustris-data/newer/L75n1820FP/bh-snapshots/bh-snapshots_008.hdf5', created '2020-10-19 16:41:30.580314'\n",
      "Loaded          0 entries from '/n/holystore01/LABS/hernquist_lab/Lab/ghernquist/lkelley/illustris-data/newer/L75n1820FP/bh-snapshots/bh-snapshots_009.hdf5', created '2020-10-19 16:43:14.424442'\n",
      "Loaded          0 entries from '/n/holystore01/LABS/hernquist_lab/Lab/ghernquist/lkelley/illustris-data/newer/L75n1820FP/bh-snapshots/bh-snapshots_009.hdf5', created '2020-10-19 16:43:14.424442'\n",
      "Loaded          0 entries from '/n/holystore01/LABS/hernquist_lab/Lab/ghernquist/lkelley/illustris-data/newer/L75n1820FP/bh-snapshots/bh-snapshots_010.hdf5', created '2020-10-19 16:43:03.984052'\n",
      "Loaded          0 entries from '/n/holystore01/LABS/hernquist_lab/Lab/ghernquist/lkelley/illustris-data/newer/L75n1820FP/bh-snapshots/bh-snapshots_010.hdf5', created '2020-10-19 16:43:03.984052'\n",
      "Loaded          0 entries from '/n/holystore01/LABS/hernquist_lab/Lab/ghernquist/lkelley/illustris-data/newer/L75n1820FP/bh-snapshots/bh-snapshots_011.hdf5', created '2020-10-19 16:42:38.045225'\n",
      "Loaded          0 entries from '/n/holystore01/LABS/hernquist_lab/Lab/ghernquist/lkelley/illustris-data/newer/L75n1820FP/bh-snapshots/bh-snapshots_011.hdf5', created '2020-10-19 16:42:38.045225'\n",
      "Loaded          0 entries from '/n/holystore01/LABS/hernquist_lab/Lab/ghernquist/lkelley/illustris-data/newer/L75n1820FP/bh-snapshots/bh-snapshots_012.hdf5', created '2020-10-19 16:41:30.557587'\n",
      "Loaded          0 entries from '/n/holystore01/LABS/hernquist_lab/Lab/ghernquist/lkelley/illustris-data/newer/L75n1820FP/bh-snapshots/bh-snapshots_012.hdf5', created '2020-10-19 16:41:30.557587'\n",
      "Loaded          0 entries from '/n/holystore01/LABS/hernquist_lab/Lab/ghernquist/lkelley/illustris-data/newer/L75n1820FP/bh-snapshots/bh-snapshots_013.hdf5', created '2020-10-19 16:41:30.583580'\n",
      "Loaded          0 entries from '/n/holystore01/LABS/hernquist_lab/Lab/ghernquist/lkelley/illustris-data/newer/L75n1820FP/bh-snapshots/bh-snapshots_013.hdf5', created '2020-10-19 16:41:30.583580'\n",
      "Loaded          0 entries from '/n/holystore01/LABS/hernquist_lab/Lab/ghernquist/lkelley/illustris-data/newer/L75n1820FP/bh-snapshots/bh-snapshots_014.hdf5', created '2020-10-19 16:42:03.824479'\n",
      "Loaded          0 entries from '/n/holystore01/LABS/hernquist_lab/Lab/ghernquist/lkelley/illustris-data/newer/L75n1820FP/bh-snapshots/bh-snapshots_014.hdf5', created '2020-10-19 16:42:03.824479'\n",
      "Loaded          0 entries from '/n/holystore01/LABS/hernquist_lab/Lab/ghernquist/lkelley/illustris-data/newer/L75n1820FP/bh-snapshots/bh-snapshots_015.hdf5', created '2020-10-19 16:41:30.580764'\n",
      "Loaded          0 entries from '/n/holystore01/LABS/hernquist_lab/Lab/ghernquist/lkelley/illustris-data/newer/L75n1820FP/bh-snapshots/bh-snapshots_015.hdf5', created '2020-10-19 16:41:30.580764'\n",
      "Loaded          0 entries from '/n/holystore01/LABS/hernquist_lab/Lab/ghernquist/lkelley/illustris-data/newer/L75n1820FP/bh-snapshots/bh-snapshots_016.hdf5', created '2020-10-19 16:41:30.574897'\n",
      "Loaded          0 entries from '/n/holystore01/LABS/hernquist_lab/Lab/ghernquist/lkelley/illustris-data/newer/L75n1820FP/bh-snapshots/bh-snapshots_016.hdf5', created '2020-10-19 16:41:30.574897'\n",
      "Loaded          0 entries from '/n/holystore01/LABS/hernquist_lab/Lab/ghernquist/lkelley/illustris-data/newer/L75n1820FP/bh-snapshots/bh-snapshots_017.hdf5', created '2020-10-19 16:42:02.913166'\n",
      "Loaded          0 entries from '/n/holystore01/LABS/hernquist_lab/Lab/ghernquist/lkelley/illustris-data/newer/L75n1820FP/bh-snapshots/bh-snapshots_017.hdf5', created '2020-10-19 16:42:02.913166'\n",
      "Loaded          0 entries from '/n/holystore01/LABS/hernquist_lab/Lab/ghernquist/lkelley/illustris-data/newer/L75n1820FP/bh-snapshots/bh-snapshots_018.hdf5', created '2020-10-19 16:43:15.000016'\n",
      "Loaded          0 entries from '/n/holystore01/LABS/hernquist_lab/Lab/ghernquist/lkelley/illustris-data/newer/L75n1820FP/bh-snapshots/bh-snapshots_018.hdf5', created '2020-10-19 16:43:15.000016'\n",
      "Loaded          0 entries from '/n/holystore01/LABS/hernquist_lab/Lab/ghernquist/lkelley/illustris-data/newer/L75n1820FP/bh-snapshots/bh-snapshots_019.hdf5', created '2020-10-19 16:41:30.655365'\n",
      "Loaded          0 entries from '/n/holystore01/LABS/hernquist_lab/Lab/ghernquist/lkelley/illustris-data/newer/L75n1820FP/bh-snapshots/bh-snapshots_019.hdf5', created '2020-10-19 16:41:30.655365'\n",
      "Loaded          0 entries from '/n/holystore01/LABS/hernquist_lab/Lab/ghernquist/lkelley/illustris-data/newer/L75n1820FP/bh-snapshots/bh-snapshots_020.hdf5', created '2020-10-19 16:44:04.610205'\n",
      "Loaded          0 entries from '/n/holystore01/LABS/hernquist_lab/Lab/ghernquist/lkelley/illustris-data/newer/L75n1820FP/bh-snapshots/bh-snapshots_020.hdf5', created '2020-10-19 16:44:04.610205'\n",
      "Loaded          0 entries from '/n/holystore01/LABS/hernquist_lab/Lab/ghernquist/lkelley/illustris-data/newer/L75n1820FP/bh-snapshots/bh-snapshots_021.hdf5', created '2020-10-19 16:43:43.427225'\n",
      "Loaded          0 entries from '/n/holystore01/LABS/hernquist_lab/Lab/ghernquist/lkelley/illustris-data/newer/L75n1820FP/bh-snapshots/bh-snapshots_021.hdf5', created '2020-10-19 16:43:43.427225'\n",
      "Loaded          0 entries from '/n/holystore01/LABS/hernquist_lab/Lab/ghernquist/lkelley/illustris-data/newer/L75n1820FP/bh-snapshots/bh-snapshots_022.hdf5', created '2020-10-19 16:42:06.043428'\n",
      "Loaded          0 entries from '/n/holystore01/LABS/hernquist_lab/Lab/ghernquist/lkelley/illustris-data/newer/L75n1820FP/bh-snapshots/bh-snapshots_022.hdf5', created '2020-10-19 16:42:06.043428'\n",
      "Loaded          0 entries from '/n/holystore01/LABS/hernquist_lab/Lab/ghernquist/lkelley/illustris-data/newer/L75n1820FP/bh-snapshots/bh-snapshots_023.hdf5', created '2020-10-19 16:41:30.584919'\n",
      "Loaded          0 entries from '/n/holystore01/LABS/hernquist_lab/Lab/ghernquist/lkelley/illustris-data/newer/L75n1820FP/bh-snapshots/bh-snapshots_023.hdf5', created '2020-10-19 16:41:30.584919'\n",
      "Loaded          0 entries from '/n/holystore01/LABS/hernquist_lab/Lab/ghernquist/lkelley/illustris-data/newer/L75n1820FP/bh-snapshots/bh-snapshots_024.hdf5', created '2020-10-19 16:42:05.999019'\n",
      "Loaded          0 entries from '/n/holystore01/LABS/hernquist_lab/Lab/ghernquist/lkelley/illustris-data/newer/L75n1820FP/bh-snapshots/bh-snapshots_024.hdf5', created '2020-10-19 16:42:05.999019'\n",
      "Loaded          0 entries from '/n/holystore01/LABS/hernquist_lab/Lab/ghernquist/lkelley/illustris-data/newer/L75n1820FP/bh-snapshots/bh-snapshots_025.hdf5', created '2020-11-01 19:29:53.455389'\n",
      "Loaded          0 entries from '/n/holystore01/LABS/hernquist_lab/Lab/ghernquist/lkelley/illustris-data/newer/L75n1820FP/bh-snapshots/bh-snapshots_025.hdf5', created '2020-11-01 19:29:53.455389'\n",
      "Loaded          0 entries from '/n/holystore01/LABS/hernquist_lab/Lab/ghernquist/lkelley/illustris-data/newer/L75n1820FP/bh-snapshots/bh-snapshots_026.hdf5', created '2020-10-19 16:42:37.822130'\n",
      "Loaded          0 entries from '/n/holystore01/LABS/hernquist_lab/Lab/ghernquist/lkelley/illustris-data/newer/L75n1820FP/bh-snapshots/bh-snapshots_026.hdf5', created '2020-10-19 16:42:37.822130'\n",
      "Loaded          0 entries from '/n/holystore01/LABS/hernquist_lab/Lab/ghernquist/lkelley/illustris-data/newer/L75n1820FP/bh-snapshots/bh-snapshots_027.hdf5', created '2020-10-19 16:41:30.564195'\n",
      "Loaded          0 entries from '/n/holystore01/LABS/hernquist_lab/Lab/ghernquist/lkelley/illustris-data/newer/L75n1820FP/bh-snapshots/bh-snapshots_027.hdf5', created '2020-10-19 16:41:30.564195'\n",
      "Loaded          0 entries from '/n/holystore01/LABS/hernquist_lab/Lab/ghernquist/lkelley/illustris-data/newer/L75n1820FP/bh-snapshots/bh-snapshots_028.hdf5', created '2020-10-19 16:42:39.733979'\n",
      "Loaded          0 entries from '/n/holystore01/LABS/hernquist_lab/Lab/ghernquist/lkelley/illustris-data/newer/L75n1820FP/bh-snapshots/bh-snapshots_028.hdf5', created '2020-10-19 16:42:39.733979'\n",
      "Loaded          0 entries from '/n/holystore01/LABS/hernquist_lab/Lab/ghernquist/lkelley/illustris-data/newer/L75n1820FP/bh-snapshots/bh-snapshots_029.hdf5', created '2020-10-19 16:42:52.840845'\n",
      "Loaded          0 entries from '/n/holystore01/LABS/hernquist_lab/Lab/ghernquist/lkelley/illustris-data/newer/L75n1820FP/bh-snapshots/bh-snapshots_029.hdf5', created '2020-10-19 16:42:52.840845'\n",
      "Loaded          1 entries from '/n/holystore01/LABS/hernquist_lab/Lab/ghernquist/lkelley/illustris-data/newer/L75n1820FP/bh-snapshots/bh-snapshots_030.hdf5', created '2020-10-19 16:43:11.657117'\n",
      "Loaded          1 entries from '/n/holystore01/LABS/hernquist_lab/Lab/ghernquist/lkelley/illustris-data/newer/L75n1820FP/bh-snapshots/bh-snapshots_030.hdf5', created '2020-10-19 16:43:11.657117'\n",
      "Loaded          2 entries from '/n/holystore01/LABS/hernquist_lab/Lab/ghernquist/lkelley/illustris-data/newer/L75n1820FP/bh-snapshots/bh-snapshots_031.hdf5', created '2020-10-19 16:42:42.533261'\n",
      "Loaded          2 entries from '/n/holystore01/LABS/hernquist_lab/Lab/ghernquist/lkelley/illustris-data/newer/L75n1820FP/bh-snapshots/bh-snapshots_031.hdf5', created '2020-10-19 16:42:42.533261'\n",
      "Loaded         12 entries from '/n/holystore01/LABS/hernquist_lab/Lab/ghernquist/lkelley/illustris-data/newer/L75n1820FP/bh-snapshots/bh-snapshots_032.hdf5', created '2020-10-19 16:42:11.371511'\n",
      "Loaded         12 entries from '/n/holystore01/LABS/hernquist_lab/Lab/ghernquist/lkelley/illustris-data/newer/L75n1820FP/bh-snapshots/bh-snapshots_032.hdf5', created '2020-10-19 16:42:11.371511'\n",
      "Loaded         12 entries from '/n/holystore01/LABS/hernquist_lab/Lab/ghernquist/lkelley/illustris-data/newer/L75n1820FP/bh-snapshots/bh-snapshots_033.hdf5', created '2020-10-19 16:41:36.734233'\n",
      "Loaded         12 entries from '/n/holystore01/LABS/hernquist_lab/Lab/ghernquist/lkelley/illustris-data/newer/L75n1820FP/bh-snapshots/bh-snapshots_033.hdf5', created '2020-10-19 16:41:36.734233'\n",
      "Loaded         18 entries from '/n/holystore01/LABS/hernquist_lab/Lab/ghernquist/lkelley/illustris-data/newer/L75n1820FP/bh-snapshots/bh-snapshots_034.hdf5', created '2020-10-19 16:42:43.411265'\n",
      "Loaded         18 entries from '/n/holystore01/LABS/hernquist_lab/Lab/ghernquist/lkelley/illustris-data/newer/L75n1820FP/bh-snapshots/bh-snapshots_034.hdf5', created '2020-10-19 16:42:43.411265'\n",
      "Loaded         50 entries from '/n/holystore01/LABS/hernquist_lab/Lab/ghernquist/lkelley/illustris-data/newer/L75n1820FP/bh-snapshots/bh-snapshots_035.hdf5', created '2020-10-19 16:43:17.269191'\n",
      "Loaded         50 entries from '/n/holystore01/LABS/hernquist_lab/Lab/ghernquist/lkelley/illustris-data/newer/L75n1820FP/bh-snapshots/bh-snapshots_035.hdf5', created '2020-10-19 16:43:17.269191'\n",
      "Loaded         50 entries from '/n/holystore01/LABS/hernquist_lab/Lab/ghernquist/lkelley/illustris-data/newer/L75n1820FP/bh-snapshots/bh-snapshots_036.hdf5', created '2020-10-19 16:43:56.438566'\n",
      "Loaded         50 entries from '/n/holystore01/LABS/hernquist_lab/Lab/ghernquist/lkelley/illustris-data/newer/L75n1820FP/bh-snapshots/bh-snapshots_036.hdf5', created '2020-10-19 16:43:56.438566'\n",
      "Loaded        115 entries from '/n/holystore01/LABS/hernquist_lab/Lab/ghernquist/lkelley/illustris-data/newer/L75n1820FP/bh-snapshots/bh-snapshots_037.hdf5', created '2020-10-19 16:42:55.109913'\n",
      "Loaded        115 entries from '/n/holystore01/LABS/hernquist_lab/Lab/ghernquist/lkelley/illustris-data/newer/L75n1820FP/bh-snapshots/bh-snapshots_037.hdf5', created '2020-10-19 16:42:55.109913'\n",
      "Loaded        169 entries from '/n/holystore01/LABS/hernquist_lab/Lab/ghernquist/lkelley/illustris-data/newer/L75n1820FP/bh-snapshots/bh-snapshots_038.hdf5', created '2020-11-01 19:30:48.773583'\n",
      "Loaded        169 entries from '/n/holystore01/LABS/hernquist_lab/Lab/ghernquist/lkelley/illustris-data/newer/L75n1820FP/bh-snapshots/bh-snapshots_038.hdf5', created '2020-11-01 19:30:48.773583'\n",
      "Loaded        323 entries from '/n/holystore01/LABS/hernquist_lab/Lab/ghernquist/lkelley/illustris-data/newer/L75n1820FP/bh-snapshots/bh-snapshots_039.hdf5', created '2020-10-19 16:41:48.921887'\n",
      "Loaded        323 entries from '/n/holystore01/LABS/hernquist_lab/Lab/ghernquist/lkelley/illustris-data/newer/L75n1820FP/bh-snapshots/bh-snapshots_039.hdf5', created '2020-10-19 16:41:48.921887'\n",
      "Loaded        444 entries from '/n/holystore01/LABS/hernquist_lab/Lab/ghernquist/lkelley/illustris-data/newer/L75n1820FP/bh-snapshots/bh-snapshots_040.hdf5', created '2020-10-19 16:42:23.695473'\n",
      "Loaded        444 entries from '/n/holystore01/LABS/hernquist_lab/Lab/ghernquist/lkelley/illustris-data/newer/L75n1820FP/bh-snapshots/bh-snapshots_040.hdf5', created '2020-10-19 16:42:23.695473'\n",
      "Loaded        602 entries from '/n/holystore01/LABS/hernquist_lab/Lab/ghernquist/lkelley/illustris-data/newer/L75n1820FP/bh-snapshots/bh-snapshots_041.hdf5', created '2020-10-19 16:44:36.081101'\n",
      "Loaded        602 entries from '/n/holystore01/LABS/hernquist_lab/Lab/ghernquist/lkelley/illustris-data/newer/L75n1820FP/bh-snapshots/bh-snapshots_041.hdf5', created '2020-10-19 16:44:36.081101'\n",
      "Loaded        766 entries from '/n/holystore01/LABS/hernquist_lab/Lab/ghernquist/lkelley/illustris-data/newer/L75n1820FP/bh-snapshots/bh-snapshots_042.hdf5', created '2020-10-19 16:42:32.829476'\n",
      "Loaded        766 entries from '/n/holystore01/LABS/hernquist_lab/Lab/ghernquist/lkelley/illustris-data/newer/L75n1820FP/bh-snapshots/bh-snapshots_042.hdf5', created '2020-10-19 16:42:32.829476'\n",
      "Loaded       1220 entries from '/n/holystore01/LABS/hernquist_lab/Lab/ghernquist/lkelley/illustris-data/newer/L75n1820FP/bh-snapshots/bh-snapshots_043.hdf5', created '2020-10-19 16:43:33.820695'\n",
      "Loaded       1220 entries from '/n/holystore01/LABS/hernquist_lab/Lab/ghernquist/lkelley/illustris-data/newer/L75n1820FP/bh-snapshots/bh-snapshots_043.hdf5', created '2020-10-19 16:43:33.820695'\n",
      "Loaded       1554 entries from '/n/holystore01/LABS/hernquist_lab/Lab/ghernquist/lkelley/illustris-data/newer/L75n1820FP/bh-snapshots/bh-snapshots_044.hdf5', created '2020-10-19 16:42:02.513703'\n",
      "Loaded       1554 entries from '/n/holystore01/LABS/hernquist_lab/Lab/ghernquist/lkelley/illustris-data/newer/L75n1820FP/bh-snapshots/bh-snapshots_044.hdf5', created '2020-10-19 16:42:02.513703'\n",
      "Loaded       1933 entries from '/n/holystore01/LABS/hernquist_lab/Lab/ghernquist/lkelley/illustris-data/newer/L75n1820FP/bh-snapshots/bh-snapshots_045.hdf5', created '2020-10-19 16:42:01.411871'\n",
      "Loaded       1933 entries from '/n/holystore01/LABS/hernquist_lab/Lab/ghernquist/lkelley/illustris-data/newer/L75n1820FP/bh-snapshots/bh-snapshots_045.hdf5', created '2020-10-19 16:42:01.411871'\n",
      "Loaded       2352 entries from '/n/holystore01/LABS/hernquist_lab/Lab/ghernquist/lkelley/illustris-data/newer/L75n1820FP/bh-snapshots/bh-snapshots_046.hdf5', created '2020-10-19 16:43:10.912906'\n",
      "Loaded       2352 entries from '/n/holystore01/LABS/hernquist_lab/Lab/ghernquist/lkelley/illustris-data/newer/L75n1820FP/bh-snapshots/bh-snapshots_046.hdf5', created '2020-10-19 16:43:10.912906'\n",
      "Loaded       2791 entries from '/n/holystore01/LABS/hernquist_lab/Lab/ghernquist/lkelley/illustris-data/newer/L75n1820FP/bh-snapshots/bh-snapshots_047.hdf5', created '2020-11-01 19:33:05.096675'\n",
      "Loaded       2791 entries from '/n/holystore01/LABS/hernquist_lab/Lab/ghernquist/lkelley/illustris-data/newer/L75n1820FP/bh-snapshots/bh-snapshots_047.hdf5', created '2020-11-01 19:33:05.096675'\n",
      "Loaded       3903 entries from '/n/holystore01/LABS/hernquist_lab/Lab/ghernquist/lkelley/illustris-data/newer/L75n1820FP/bh-snapshots/bh-snapshots_048.hdf5', created '2020-10-19 16:42:37.042113'\n",
      "Loaded       3903 entries from '/n/holystore01/LABS/hernquist_lab/Lab/ghernquist/lkelley/illustris-data/newer/L75n1820FP/bh-snapshots/bh-snapshots_048.hdf5', created '2020-10-19 16:42:37.042113'\n",
      "Loaded       4508 entries from '/n/holystore01/LABS/hernquist_lab/Lab/ghernquist/lkelley/illustris-data/newer/L75n1820FP/bh-snapshots/bh-snapshots_049.hdf5', created '2020-10-19 16:43:48.389819'\n",
      "Loaded       4508 entries from '/n/holystore01/LABS/hernquist_lab/Lab/ghernquist/lkelley/illustris-data/newer/L75n1820FP/bh-snapshots/bh-snapshots_049.hdf5', created '2020-10-19 16:43:48.389819'\n",
      "Loaded       4499 entries from '/n/holystore01/LABS/hernquist_lab/Lab/ghernquist/lkelley/illustris-data/newer/L75n1820FP/bh-snapshots/bh-snapshots_050.hdf5', created '2020-10-19 16:42:37.428516'\n",
      "Loaded       4499 entries from '/n/holystore01/LABS/hernquist_lab/Lab/ghernquist/lkelley/illustris-data/newer/L75n1820FP/bh-snapshots/bh-snapshots_050.hdf5', created '2020-10-19 16:42:37.428516'\n",
      "Loaded       6012 entries from '/n/holystore01/LABS/hernquist_lab/Lab/ghernquist/lkelley/illustris-data/newer/L75n1820FP/bh-snapshots/bh-snapshots_051.hdf5', created '2020-10-19 16:42:02.843312'\n",
      "Loaded       6012 entries from '/n/holystore01/LABS/hernquist_lab/Lab/ghernquist/lkelley/illustris-data/newer/L75n1820FP/bh-snapshots/bh-snapshots_051.hdf5', created '2020-10-19 16:42:02.843312'\n",
      "Loaded       6767 entries from '/n/holystore01/LABS/hernquist_lab/Lab/ghernquist/lkelley/illustris-data/newer/L75n1820FP/bh-snapshots/bh-snapshots_052.hdf5', created '2020-10-19 16:43:55.026846'\n",
      "Loaded       6767 entries from '/n/holystore01/LABS/hernquist_lab/Lab/ghernquist/lkelley/illustris-data/newer/L75n1820FP/bh-snapshots/bh-snapshots_052.hdf5', created '2020-10-19 16:43:55.026846'\n",
      "Running `_process()`; recreate: False, exists: False (/n/holystore01/LABS/hernquist_lab/Lab/ghernquist/lkelley/illustris-data/newer/L75n1820FP/bh-snapshots/bh-snapshots_053.hdf5)\n",
      "Loaded header time=0.19316822, nbh=8496\n"
     ]
    },
    {
     "name": "stderr",
     "output_type": "stream",
     "text": [
      "ERROR:root:FAILURE on snap 53 :: 'Unable to open file (file signature not found)'\n"
     ]
    },
    {
     "name": "stdout",
     "output_type": "stream",
     "text": [
      "Loaded       9414 entries from '/n/holystore01/LABS/hernquist_lab/Lab/ghernquist/lkelley/illustris-data/newer/L75n1820FP/bh-snapshots/bh-snapshots_054.hdf5', created '2020-10-19 16:42:52.734640'\n",
      "Loaded       9414 entries from '/n/holystore01/LABS/hernquist_lab/Lab/ghernquist/lkelley/illustris-data/newer/L75n1820FP/bh-snapshots/bh-snapshots_054.hdf5', created '2020-10-19 16:42:52.734640'\n",
      "Running `_process()`; recreate: False, exists: False (/n/holystore01/LABS/hernquist_lab/Lab/ghernquist/lkelley/illustris-data/newer/L75n1820FP/bh-snapshots/bh-snapshots_055.hdf5)\n",
      "Loaded header time=0.20254145, nbh=10422\n"
     ]
    },
    {
     "name": "stderr",
     "output_type": "stream",
     "text": [
      "ERROR:root:FAILURE on snap 55 :: 'Unable to open file (file signature not found)'\n"
     ]
    },
    {
     "name": "stdout",
     "output_type": "stream",
     "text": [
      "Loaded      11351 entries from '/n/holystore01/LABS/hernquist_lab/Lab/ghernquist/lkelley/illustris-data/newer/L75n1820FP/bh-snapshots/bh-snapshots_056.hdf5', created '2020-10-19 16:43:31.027392'\n",
      "Loaded      11351 entries from '/n/holystore01/LABS/hernquist_lab/Lab/ghernquist/lkelley/illustris-data/newer/L75n1820FP/bh-snapshots/bh-snapshots_056.hdf5', created '2020-10-19 16:43:31.027392'\n",
      "Loaded      13382 entries from '/n/holystore01/LABS/hernquist_lab/Lab/ghernquist/lkelley/illustris-data/newer/L75n1820FP/bh-snapshots/bh-snapshots_057.hdf5', created '2020-10-19 16:43:49.206650'\n",
      "Loaded      13382 entries from '/n/holystore01/LABS/hernquist_lab/Lab/ghernquist/lkelley/illustris-data/newer/L75n1820FP/bh-snapshots/bh-snapshots_057.hdf5', created '2020-10-19 16:43:49.206650'\n",
      "Loaded      14266 entries from '/n/holystore01/LABS/hernquist_lab/Lab/ghernquist/lkelley/illustris-data/newer/L75n1820FP/bh-snapshots/bh-snapshots_058.hdf5', created '2020-10-19 16:42:01.302796'\n",
      "Loaded      14266 entries from '/n/holystore01/LABS/hernquist_lab/Lab/ghernquist/lkelley/illustris-data/newer/L75n1820FP/bh-snapshots/bh-snapshots_058.hdf5', created '2020-10-19 16:42:01.302796'\n",
      "Loaded      16337 entries from '/n/holystore01/LABS/hernquist_lab/Lab/ghernquist/lkelley/illustris-data/newer/L75n1820FP/bh-snapshots/bh-snapshots_059.hdf5', created '2020-10-19 16:43:07.560340'\n",
      "Loaded      16337 entries from '/n/holystore01/LABS/hernquist_lab/Lab/ghernquist/lkelley/illustris-data/newer/L75n1820FP/bh-snapshots/bh-snapshots_059.hdf5', created '2020-10-19 16:43:07.560340'\n",
      "Loaded      17408 entries from '/n/holystore01/LABS/hernquist_lab/Lab/ghernquist/lkelley/illustris-data/newer/L75n1820FP/bh-snapshots/bh-snapshots_060.hdf5', created '2020-10-19 16:43:43.307271'\n",
      "Loaded      17408 entries from '/n/holystore01/LABS/hernquist_lab/Lab/ghernquist/lkelley/illustris-data/newer/L75n1820FP/bh-snapshots/bh-snapshots_060.hdf5', created '2020-10-19 16:43:43.307271'\n",
      "Loaded      18468 entries from '/n/holystore01/LABS/hernquist_lab/Lab/ghernquist/lkelley/illustris-data/newer/L75n1820FP/bh-snapshots/bh-snapshots_061.hdf5', created '2020-10-19 16:43:37.791178'\n",
      "Loaded      18468 entries from '/n/holystore01/LABS/hernquist_lab/Lab/ghernquist/lkelley/illustris-data/newer/L75n1820FP/bh-snapshots/bh-snapshots_061.hdf5', created '2020-10-19 16:43:37.791178'\n",
      "Loaded      19253 entries from '/n/holystore01/LABS/hernquist_lab/Lab/ghernquist/lkelley/illustris-data/newer/L75n1820FP/bh-snapshots/bh-snapshots_062.hdf5', created '2020-10-19 16:43:10.619907'\n",
      "Loaded      19253 entries from '/n/holystore01/LABS/hernquist_lab/Lab/ghernquist/lkelley/illustris-data/newer/L75n1820FP/bh-snapshots/bh-snapshots_062.hdf5', created '2020-10-19 16:43:10.619907'\n",
      "Loaded      21330 entries from '/n/holystore01/LABS/hernquist_lab/Lab/ghernquist/lkelley/illustris-data/newer/L75n1820FP/bh-snapshots/bh-snapshots_063.hdf5', created '2020-10-19 16:42:39.198543'\n",
      "Loaded      21330 entries from '/n/holystore01/LABS/hernquist_lab/Lab/ghernquist/lkelley/illustris-data/newer/L75n1820FP/bh-snapshots/bh-snapshots_063.hdf5', created '2020-10-19 16:42:39.198543'\n",
      "Loaded      22079 entries from '/n/holystore01/LABS/hernquist_lab/Lab/ghernquist/lkelley/illustris-data/newer/L75n1820FP/bh-snapshots/bh-snapshots_064.hdf5', created '2020-10-19 16:42:05.062359'\n",
      "Loaded      22079 entries from '/n/holystore01/LABS/hernquist_lab/Lab/ghernquist/lkelley/illustris-data/newer/L75n1820FP/bh-snapshots/bh-snapshots_064.hdf5', created '2020-10-19 16:42:05.062359'\n",
      "Loaded      22725 entries from '/n/holystore01/LABS/hernquist_lab/Lab/ghernquist/lkelley/illustris-data/newer/L75n1820FP/bh-snapshots/bh-snapshots_065.hdf5', created '2020-10-19 16:43:48.644363'\n",
      "Loaded      22725 entries from '/n/holystore01/LABS/hernquist_lab/Lab/ghernquist/lkelley/illustris-data/newer/L75n1820FP/bh-snapshots/bh-snapshots_065.hdf5', created '2020-10-19 16:43:48.644363'\n",
      "Loaded      23492 entries from '/n/holystore01/LABS/hernquist_lab/Lab/ghernquist/lkelley/illustris-data/newer/L75n1820FP/bh-snapshots/bh-snapshots_066.hdf5', created '2020-10-19 16:43:09.872559'\n",
      "Loaded      23492 entries from '/n/holystore01/LABS/hernquist_lab/Lab/ghernquist/lkelley/illustris-data/newer/L75n1820FP/bh-snapshots/bh-snapshots_066.hdf5', created '2020-10-19 16:43:09.872559'\n",
      "Loaded      24180 entries from '/n/holystore01/LABS/hernquist_lab/Lab/ghernquist/lkelley/illustris-data/newer/L75n1820FP/bh-snapshots/bh-snapshots_067.hdf5', created '2020-10-19 16:42:03.176049'\n",
      "Loaded      24180 entries from '/n/holystore01/LABS/hernquist_lab/Lab/ghernquist/lkelley/illustris-data/newer/L75n1820FP/bh-snapshots/bh-snapshots_067.hdf5', created '2020-10-19 16:42:03.176049'\n",
      "Loaded      24878 entries from '/n/holystore01/LABS/hernquist_lab/Lab/ghernquist/lkelley/illustris-data/newer/L75n1820FP/bh-snapshots/bh-snapshots_068.hdf5', created '2020-10-19 16:42:02.489672'\n",
      "Loaded      24878 entries from '/n/holystore01/LABS/hernquist_lab/Lab/ghernquist/lkelley/illustris-data/newer/L75n1820FP/bh-snapshots/bh-snapshots_068.hdf5', created '2020-10-19 16:42:02.489672'\n",
      "Loaded      26591 entries from '/n/holystore01/LABS/hernquist_lab/Lab/ghernquist/lkelley/illustris-data/newer/L75n1820FP/bh-snapshots/bh-snapshots_069.hdf5', created '2020-10-19 16:42:34.194517'\n",
      "Loaded      26591 entries from '/n/holystore01/LABS/hernquist_lab/Lab/ghernquist/lkelley/illustris-data/newer/L75n1820FP/bh-snapshots/bh-snapshots_069.hdf5', created '2020-10-19 16:42:34.194517'\n",
      "Loaded      27106 entries from '/n/holystore01/LABS/hernquist_lab/Lab/ghernquist/lkelley/illustris-data/newer/L75n1820FP/bh-snapshots/bh-snapshots_070.hdf5', created '2020-10-19 16:43:01.598420'\n",
      "Loaded      27106 entries from '/n/holystore01/LABS/hernquist_lab/Lab/ghernquist/lkelley/illustris-data/newer/L75n1820FP/bh-snapshots/bh-snapshots_070.hdf5', created '2020-10-19 16:43:01.598420'\n",
      "Loaded      27716 entries from '/n/holystore01/LABS/hernquist_lab/Lab/ghernquist/lkelley/illustris-data/newer/L75n1820FP/bh-snapshots/bh-snapshots_071.hdf5', created '2020-10-19 16:42:03.733857'\n",
      "Loaded      27716 entries from '/n/holystore01/LABS/hernquist_lab/Lab/ghernquist/lkelley/illustris-data/newer/L75n1820FP/bh-snapshots/bh-snapshots_071.hdf5', created '2020-10-19 16:42:03.733857'\n",
      "Loaded      27226 entries from '/n/holystore01/LABS/hernquist_lab/Lab/ghernquist/lkelley/illustris-data/newer/L75n1820FP/bh-snapshots/bh-snapshots_072.hdf5', created '2020-10-19 16:44:08.584233'\n",
      "Loaded      27226 entries from '/n/holystore01/LABS/hernquist_lab/Lab/ghernquist/lkelley/illustris-data/newer/L75n1820FP/bh-snapshots/bh-snapshots_072.hdf5', created '2020-10-19 16:44:08.584233'\n",
      "Loaded      27807 entries from '/n/holystore01/LABS/hernquist_lab/Lab/ghernquist/lkelley/illustris-data/newer/L75n1820FP/bh-snapshots/bh-snapshots_073.hdf5', created '2020-10-19 16:44:52.479903'\n",
      "Loaded      27807 entries from '/n/holystore01/LABS/hernquist_lab/Lab/ghernquist/lkelley/illustris-data/newer/L75n1820FP/bh-snapshots/bh-snapshots_073.hdf5', created '2020-10-19 16:44:52.479903'\n",
      "Loaded      28312 entries from '/n/holystore01/LABS/hernquist_lab/Lab/ghernquist/lkelley/illustris-data/newer/L75n1820FP/bh-snapshots/bh-snapshots_074.hdf5', created '2020-10-19 16:43:23.067338'\n",
      "Loaded      28312 entries from '/n/holystore01/LABS/hernquist_lab/Lab/ghernquist/lkelley/illustris-data/newer/L75n1820FP/bh-snapshots/bh-snapshots_074.hdf5', created '2020-10-19 16:43:23.067338'\n",
      "Loaded      28817 entries from '/n/holystore01/LABS/hernquist_lab/Lab/ghernquist/lkelley/illustris-data/newer/L75n1820FP/bh-snapshots/bh-snapshots_075.hdf5', created '2020-10-19 16:42:02.222162'\n",
      "Loaded      28817 entries from '/n/holystore01/LABS/hernquist_lab/Lab/ghernquist/lkelley/illustris-data/newer/L75n1820FP/bh-snapshots/bh-snapshots_075.hdf5', created '2020-10-19 16:42:02.222162'\n",
      "Loaded      29279 entries from '/n/holystore01/LABS/hernquist_lab/Lab/ghernquist/lkelley/illustris-data/newer/L75n1820FP/bh-snapshots/bh-snapshots_076.hdf5', created '2020-10-19 16:43:29.695086'\n",
      "Loaded      29279 entries from '/n/holystore01/LABS/hernquist_lab/Lab/ghernquist/lkelley/illustris-data/newer/L75n1820FP/bh-snapshots/bh-snapshots_076.hdf5', created '2020-10-19 16:43:29.695086'\n",
      "Loaded      29766 entries from '/n/holystore01/LABS/hernquist_lab/Lab/ghernquist/lkelley/illustris-data/newer/L75n1820FP/bh-snapshots/bh-snapshots_077.hdf5', created '2020-10-19 16:42:38.427397'\n",
      "Loaded      29766 entries from '/n/holystore01/LABS/hernquist_lab/Lab/ghernquist/lkelley/illustris-data/newer/L75n1820FP/bh-snapshots/bh-snapshots_077.hdf5', created '2020-10-19 16:42:38.427397'\n",
      "Loaded      29279 entries from '/n/holystore01/LABS/hernquist_lab/Lab/ghernquist/lkelley/illustris-data/newer/L75n1820FP/bh-snapshots/bh-snapshots_078.hdf5', created '2020-10-19 16:42:01.292997'\n",
      "Loaded      29279 entries from '/n/holystore01/LABS/hernquist_lab/Lab/ghernquist/lkelley/illustris-data/newer/L75n1820FP/bh-snapshots/bh-snapshots_078.hdf5', created '2020-10-19 16:42:01.292997'\n",
      "Loaded      29684 entries from '/n/holystore01/LABS/hernquist_lab/Lab/ghernquist/lkelley/illustris-data/newer/L75n1820FP/bh-snapshots/bh-snapshots_079.hdf5', created '2020-10-19 16:43:39.491670'\n",
      "Loaded      29684 entries from '/n/holystore01/LABS/hernquist_lab/Lab/ghernquist/lkelley/illustris-data/newer/L75n1820FP/bh-snapshots/bh-snapshots_079.hdf5', created '2020-10-19 16:43:39.491670'\n",
      "Loaded      30207 entries from '/n/holystore01/LABS/hernquist_lab/Lab/ghernquist/lkelley/illustris-data/newer/L75n1820FP/bh-snapshots/bh-snapshots_080.hdf5', created '2020-10-19 16:42:04.922872'\n",
      "Loaded      30207 entries from '/n/holystore01/LABS/hernquist_lab/Lab/ghernquist/lkelley/illustris-data/newer/L75n1820FP/bh-snapshots/bh-snapshots_080.hdf5', created '2020-10-19 16:42:04.922872'\n",
      "Loaded      30579 entries from '/n/holystore01/LABS/hernquist_lab/Lab/ghernquist/lkelley/illustris-data/newer/L75n1820FP/bh-snapshots/bh-snapshots_081.hdf5', created '2020-10-19 16:42:39.405994'\n",
      "Loaded      30579 entries from '/n/holystore01/LABS/hernquist_lab/Lab/ghernquist/lkelley/illustris-data/newer/L75n1820FP/bh-snapshots/bh-snapshots_081.hdf5', created '2020-10-19 16:42:39.405994'\n",
      "Loaded      30212 entries from '/n/holystore01/LABS/hernquist_lab/Lab/ghernquist/lkelley/illustris-data/newer/L75n1820FP/bh-snapshots/bh-snapshots_082.hdf5', created '2020-10-19 16:42:37.239521'\n",
      "Loaded      30212 entries from '/n/holystore01/LABS/hernquist_lab/Lab/ghernquist/lkelley/illustris-data/newer/L75n1820FP/bh-snapshots/bh-snapshots_082.hdf5', created '2020-10-19 16:42:37.239521'\n",
      "Loaded      30690 entries from '/n/holystore01/LABS/hernquist_lab/Lab/ghernquist/lkelley/illustris-data/newer/L75n1820FP/bh-snapshots/bh-snapshots_083.hdf5', created '2020-10-19 16:44:04.514768'\n",
      "Loaded      30690 entries from '/n/holystore01/LABS/hernquist_lab/Lab/ghernquist/lkelley/illustris-data/newer/L75n1820FP/bh-snapshots/bh-snapshots_083.hdf5', created '2020-10-19 16:44:04.514768'\n",
      "Loaded      31131 entries from '/n/holystore01/LABS/hernquist_lab/Lab/ghernquist/lkelley/illustris-data/newer/L75n1820FP/bh-snapshots/bh-snapshots_084.hdf5', created '2020-10-19 16:42:38.205281'\n",
      "Loaded      31131 entries from '/n/holystore01/LABS/hernquist_lab/Lab/ghernquist/lkelley/illustris-data/newer/L75n1820FP/bh-snapshots/bh-snapshots_084.hdf5', created '2020-10-19 16:42:38.205281'\n",
      "Loaded      30739 entries from '/n/holystore01/LABS/hernquist_lab/Lab/ghernquist/lkelley/illustris-data/newer/L75n1820FP/bh-snapshots/bh-snapshots_085.hdf5', created '2020-10-19 16:42:05.547603'\n",
      "Loaded      30739 entries from '/n/holystore01/LABS/hernquist_lab/Lab/ghernquist/lkelley/illustris-data/newer/L75n1820FP/bh-snapshots/bh-snapshots_085.hdf5', created '2020-10-19 16:42:05.547603'\n",
      "Loaded      30650 entries from '/n/holystore01/LABS/hernquist_lab/Lab/ghernquist/lkelley/illustris-data/newer/L75n1820FP/bh-snapshots/bh-snapshots_086.hdf5', created '2020-10-19 16:44:34.626262'\n",
      "Loaded      30650 entries from '/n/holystore01/LABS/hernquist_lab/Lab/ghernquist/lkelley/illustris-data/newer/L75n1820FP/bh-snapshots/bh-snapshots_086.hdf5', created '2020-10-19 16:44:34.626262'\n",
      "Loaded      31049 entries from '/n/holystore01/LABS/hernquist_lab/Lab/ghernquist/lkelley/illustris-data/newer/L75n1820FP/bh-snapshots/bh-snapshots_087.hdf5', created '2020-10-19 16:42:04.430176'\n",
      "Loaded      31049 entries from '/n/holystore01/LABS/hernquist_lab/Lab/ghernquist/lkelley/illustris-data/newer/L75n1820FP/bh-snapshots/bh-snapshots_087.hdf5', created '2020-10-19 16:42:04.430176'\n",
      "Loaded      31576 entries from '/n/holystore01/LABS/hernquist_lab/Lab/ghernquist/lkelley/illustris-data/newer/L75n1820FP/bh-snapshots/bh-snapshots_088.hdf5', created '2020-10-19 16:43:51.841232'\n",
      "Loaded      31576 entries from '/n/holystore01/LABS/hernquist_lab/Lab/ghernquist/lkelley/illustris-data/newer/L75n1820FP/bh-snapshots/bh-snapshots_088.hdf5', created '2020-10-19 16:43:51.841232'\n",
      "Loaded      31165 entries from '/n/holystore01/LABS/hernquist_lab/Lab/ghernquist/lkelley/illustris-data/newer/L75n1820FP/bh-snapshots/bh-snapshots_089.hdf5', created '2020-10-19 16:42:02.669989'\n",
      "Loaded      31165 entries from '/n/holystore01/LABS/hernquist_lab/Lab/ghernquist/lkelley/illustris-data/newer/L75n1820FP/bh-snapshots/bh-snapshots_089.hdf5', created '2020-10-19 16:42:02.669989'\n",
      "Loaded      31486 entries from '/n/holystore01/LABS/hernquist_lab/Lab/ghernquist/lkelley/illustris-data/newer/L75n1820FP/bh-snapshots/bh-snapshots_090.hdf5', created '2020-10-19 16:43:14.757009'\n",
      "Loaded      31486 entries from '/n/holystore01/LABS/hernquist_lab/Lab/ghernquist/lkelley/illustris-data/newer/L75n1820FP/bh-snapshots/bh-snapshots_090.hdf5', created '2020-10-19 16:43:14.757009'\n",
      "Loaded      31131 entries from '/n/holystore01/LABS/hernquist_lab/Lab/ghernquist/lkelley/illustris-data/newer/L75n1820FP/bh-snapshots/bh-snapshots_091.hdf5', created '2020-10-19 16:43:09.717621'\n",
      "Loaded      31131 entries from '/n/holystore01/LABS/hernquist_lab/Lab/ghernquist/lkelley/illustris-data/newer/L75n1820FP/bh-snapshots/bh-snapshots_091.hdf5', created '2020-10-19 16:43:09.717621'\n",
      "Loaded      31560 entries from '/n/holystore01/LABS/hernquist_lab/Lab/ghernquist/lkelley/illustris-data/newer/L75n1820FP/bh-snapshots/bh-snapshots_092.hdf5', created '2020-10-19 16:43:03.851621'\n",
      "Loaded      31560 entries from '/n/holystore01/LABS/hernquist_lab/Lab/ghernquist/lkelley/illustris-data/newer/L75n1820FP/bh-snapshots/bh-snapshots_092.hdf5', created '2020-10-19 16:43:03.851621'\n",
      "Loaded      31955 entries from '/n/holystore01/LABS/hernquist_lab/Lab/ghernquist/lkelley/illustris-data/newer/L75n1820FP/bh-snapshots/bh-snapshots_093.hdf5', created '2020-10-19 16:43:03.894715'\n",
      "Loaded      31955 entries from '/n/holystore01/LABS/hernquist_lab/Lab/ghernquist/lkelley/illustris-data/newer/L75n1820FP/bh-snapshots/bh-snapshots_093.hdf5', created '2020-10-19 16:43:03.894715'\n",
      "Loaded      31688 entries from '/n/holystore01/LABS/hernquist_lab/Lab/ghernquist/lkelley/illustris-data/newer/L75n1820FP/bh-snapshots/bh-snapshots_094.hdf5', created '2020-10-19 16:43:14.879311'\n",
      "Loaded      31688 entries from '/n/holystore01/LABS/hernquist_lab/Lab/ghernquist/lkelley/illustris-data/newer/L75n1820FP/bh-snapshots/bh-snapshots_094.hdf5', created '2020-10-19 16:43:14.879311'\n",
      "Loaded      32027 entries from '/n/holystore01/LABS/hernquist_lab/Lab/ghernquist/lkelley/illustris-data/newer/L75n1820FP/bh-snapshots/bh-snapshots_095.hdf5', created '2020-10-19 16:42:37.385343'\n",
      "Loaded      32027 entries from '/n/holystore01/LABS/hernquist_lab/Lab/ghernquist/lkelley/illustris-data/newer/L75n1820FP/bh-snapshots/bh-snapshots_095.hdf5', created '2020-10-19 16:42:37.385343'\n",
      "Loaded      31737 entries from '/n/holystore01/LABS/hernquist_lab/Lab/ghernquist/lkelley/illustris-data/newer/L75n1820FP/bh-snapshots/bh-snapshots_096.hdf5', created '2020-10-19 16:43:43.359390'\n",
      "Loaded      31737 entries from '/n/holystore01/LABS/hernquist_lab/Lab/ghernquist/lkelley/illustris-data/newer/L75n1820FP/bh-snapshots/bh-snapshots_096.hdf5', created '2020-10-19 16:43:43.359390'\n",
      "Loaded      32070 entries from '/n/holystore01/LABS/hernquist_lab/Lab/ghernquist/lkelley/illustris-data/newer/L75n1820FP/bh-snapshots/bh-snapshots_097.hdf5', created '2020-10-19 16:43:06.856528'\n",
      "Loaded      32070 entries from '/n/holystore01/LABS/hernquist_lab/Lab/ghernquist/lkelley/illustris-data/newer/L75n1820FP/bh-snapshots/bh-snapshots_097.hdf5', created '2020-10-19 16:43:06.856528'\n",
      "Loaded      31824 entries from '/n/holystore01/LABS/hernquist_lab/Lab/ghernquist/lkelley/illustris-data/newer/L75n1820FP/bh-snapshots/bh-snapshots_098.hdf5', created '2020-10-19 16:42:39.657719'\n",
      "Loaded      31824 entries from '/n/holystore01/LABS/hernquist_lab/Lab/ghernquist/lkelley/illustris-data/newer/L75n1820FP/bh-snapshots/bh-snapshots_098.hdf5', created '2020-10-19 16:42:39.657719'\n",
      "Loaded      32208 entries from '/n/holystore01/LABS/hernquist_lab/Lab/ghernquist/lkelley/illustris-data/newer/L75n1820FP/bh-snapshots/bh-snapshots_099.hdf5', created '2020-10-19 16:42:26.366822'\n",
      "Loaded      32208 entries from '/n/holystore01/LABS/hernquist_lab/Lab/ghernquist/lkelley/illustris-data/newer/L75n1820FP/bh-snapshots/bh-snapshots_099.hdf5', created '2020-10-19 16:42:26.366822'\n",
      "Loaded      31946 entries from '/n/holystore01/LABS/hernquist_lab/Lab/ghernquist/lkelley/illustris-data/newer/L75n1820FP/bh-snapshots/bh-snapshots_100.hdf5', created '2020-10-19 16:42:52.967300'\n",
      "Loaded      31946 entries from '/n/holystore01/LABS/hernquist_lab/Lab/ghernquist/lkelley/illustris-data/newer/L75n1820FP/bh-snapshots/bh-snapshots_100.hdf5', created '2020-10-19 16:42:52.967300'\n",
      "Loaded      32227 entries from '/n/holystore01/LABS/hernquist_lab/Lab/ghernquist/lkelley/illustris-data/newer/L75n1820FP/bh-snapshots/bh-snapshots_101.hdf5', created '2020-10-19 16:43:48.323439'\n",
      "Loaded      32227 entries from '/n/holystore01/LABS/hernquist_lab/Lab/ghernquist/lkelley/illustris-data/newer/L75n1820FP/bh-snapshots/bh-snapshots_101.hdf5', created '2020-10-19 16:43:48.323439'\n",
      "Loaded      31980 entries from '/n/holystore01/LABS/hernquist_lab/Lab/ghernquist/lkelley/illustris-data/newer/L75n1820FP/bh-snapshots/bh-snapshots_102.hdf5', created '2020-10-19 16:43:14.252646'\n",
      "Loaded      31980 entries from '/n/holystore01/LABS/hernquist_lab/Lab/ghernquist/lkelley/illustris-data/newer/L75n1820FP/bh-snapshots/bh-snapshots_102.hdf5', created '2020-10-19 16:43:14.252646'\n",
      "Loaded      32329 entries from '/n/holystore01/LABS/hernquist_lab/Lab/ghernquist/lkelley/illustris-data/newer/L75n1820FP/bh-snapshots/bh-snapshots_103.hdf5', created '2020-10-19 16:43:10.201884'\n",
      "Loaded      32329 entries from '/n/holystore01/LABS/hernquist_lab/Lab/ghernquist/lkelley/illustris-data/newer/L75n1820FP/bh-snapshots/bh-snapshots_103.hdf5', created '2020-10-19 16:43:10.201884'\n",
      "Loaded      32086 entries from '/n/holystore01/LABS/hernquist_lab/Lab/ghernquist/lkelley/illustris-data/newer/L75n1820FP/bh-snapshots/bh-snapshots_104.hdf5', created '2020-10-19 16:43:09.753150'\n",
      "Loaded      32086 entries from '/n/holystore01/LABS/hernquist_lab/Lab/ghernquist/lkelley/illustris-data/newer/L75n1820FP/bh-snapshots/bh-snapshots_104.hdf5', created '2020-10-19 16:43:09.753150'\n",
      "Loaded      32440 entries from '/n/holystore01/LABS/hernquist_lab/Lab/ghernquist/lkelley/illustris-data/newer/L75n1820FP/bh-snapshots/bh-snapshots_105.hdf5', created '2020-10-19 16:42:37.909379'\n",
      "Loaded      32440 entries from '/n/holystore01/LABS/hernquist_lab/Lab/ghernquist/lkelley/illustris-data/newer/L75n1820FP/bh-snapshots/bh-snapshots_105.hdf5', created '2020-10-19 16:42:37.909379'\n",
      "Loaded      32203 entries from '/n/holystore01/LABS/hernquist_lab/Lab/ghernquist/lkelley/illustris-data/newer/L75n1820FP/bh-snapshots/bh-snapshots_106.hdf5', created '2020-10-19 16:43:14.277172'\n",
      "Loaded      32203 entries from '/n/holystore01/LABS/hernquist_lab/Lab/ghernquist/lkelley/illustris-data/newer/L75n1820FP/bh-snapshots/bh-snapshots_106.hdf5', created '2020-10-19 16:43:14.277172'\n",
      "Loaded      32528 entries from '/n/holystore01/LABS/hernquist_lab/Lab/ghernquist/lkelley/illustris-data/newer/L75n1820FP/bh-snapshots/bh-snapshots_107.hdf5', created '2020-10-19 16:44:10.641019'\n",
      "Loaded      32528 entries from '/n/holystore01/LABS/hernquist_lab/Lab/ghernquist/lkelley/illustris-data/newer/L75n1820FP/bh-snapshots/bh-snapshots_107.hdf5', created '2020-10-19 16:44:10.641019'\n",
      "Loaded      32287 entries from '/n/holystore01/LABS/hernquist_lab/Lab/ghernquist/lkelley/illustris-data/newer/L75n1820FP/bh-snapshots/bh-snapshots_108.hdf5', created '2020-10-19 16:43:29.581990'\n",
      "Loaded      32287 entries from '/n/holystore01/LABS/hernquist_lab/Lab/ghernquist/lkelley/illustris-data/newer/L75n1820FP/bh-snapshots/bh-snapshots_108.hdf5', created '2020-10-19 16:43:29.581990'\n",
      "Loaded      32560 entries from '/n/holystore01/LABS/hernquist_lab/Lab/ghernquist/lkelley/illustris-data/newer/L75n1820FP/bh-snapshots/bh-snapshots_109.hdf5', created '2020-10-19 16:44:09.195881'\n",
      "Loaded      32560 entries from '/n/holystore01/LABS/hernquist_lab/Lab/ghernquist/lkelley/illustris-data/newer/L75n1820FP/bh-snapshots/bh-snapshots_109.hdf5', created '2020-10-19 16:44:09.195881'\n",
      "Loaded      32317 entries from '/n/holystore01/LABS/hernquist_lab/Lab/ghernquist/lkelley/illustris-data/newer/L75n1820FP/bh-snapshots/bh-snapshots_110.hdf5', created '2020-10-19 16:42:04.031473'\n",
      "Loaded      32317 entries from '/n/holystore01/LABS/hernquist_lab/Lab/ghernquist/lkelley/illustris-data/newer/L75n1820FP/bh-snapshots/bh-snapshots_110.hdf5', created '2020-10-19 16:42:04.031473'\n",
      "Loaded      32707 entries from '/n/holystore01/LABS/hernquist_lab/Lab/ghernquist/lkelley/illustris-data/newer/L75n1820FP/bh-snapshots/bh-snapshots_111.hdf5', created '2020-10-19 16:43:13.382677'\n",
      "Loaded      32707 entries from '/n/holystore01/LABS/hernquist_lab/Lab/ghernquist/lkelley/illustris-data/newer/L75n1820FP/bh-snapshots/bh-snapshots_111.hdf5', created '2020-10-19 16:43:13.382677'\n",
      "Loaded      32454 entries from '/n/holystore01/LABS/hernquist_lab/Lab/ghernquist/lkelley/illustris-data/newer/L75n1820FP/bh-snapshots/bh-snapshots_112.hdf5', created '2020-10-19 16:43:34.710560'\n",
      "Loaded      32454 entries from '/n/holystore01/LABS/hernquist_lab/Lab/ghernquist/lkelley/illustris-data/newer/L75n1820FP/bh-snapshots/bh-snapshots_112.hdf5', created '2020-10-19 16:43:34.710560'\n",
      "Loaded      32745 entries from '/n/holystore01/LABS/hernquist_lab/Lab/ghernquist/lkelley/illustris-data/newer/L75n1820FP/bh-snapshots/bh-snapshots_113.hdf5', created '2020-10-19 16:43:36.329020'\n",
      "Loaded      32745 entries from '/n/holystore01/LABS/hernquist_lab/Lab/ghernquist/lkelley/illustris-data/newer/L75n1820FP/bh-snapshots/bh-snapshots_113.hdf5', created '2020-10-19 16:43:36.329020'\n",
      "Loaded      32489 entries from '/n/holystore01/LABS/hernquist_lab/Lab/ghernquist/lkelley/illustris-data/newer/L75n1820FP/bh-snapshots/bh-snapshots_114.hdf5', created '2020-10-19 16:42:40.428441'\n",
      "Loaded      32489 entries from '/n/holystore01/LABS/hernquist_lab/Lab/ghernquist/lkelley/illustris-data/newer/L75n1820FP/bh-snapshots/bh-snapshots_114.hdf5', created '2020-10-19 16:42:40.428441'\n",
      "Loaded      32304 entries from '/n/holystore01/LABS/hernquist_lab/Lab/ghernquist/lkelley/illustris-data/newer/L75n1820FP/bh-snapshots/bh-snapshots_115.hdf5', created '2020-10-19 16:42:43.984219'\n",
      "Loaded      32304 entries from '/n/holystore01/LABS/hernquist_lab/Lab/ghernquist/lkelley/illustris-data/newer/L75n1820FP/bh-snapshots/bh-snapshots_115.hdf5', created '2020-10-19 16:42:43.984219'\n",
      "Loaded      32608 entries from '/n/holystore01/LABS/hernquist_lab/Lab/ghernquist/lkelley/illustris-data/newer/L75n1820FP/bh-snapshots/bh-snapshots_116.hdf5', created '2020-10-19 16:42:04.110421'\n",
      "Loaded      32608 entries from '/n/holystore01/LABS/hernquist_lab/Lab/ghernquist/lkelley/illustris-data/newer/L75n1820FP/bh-snapshots/bh-snapshots_116.hdf5', created '2020-10-19 16:42:04.110421'\n",
      "Loaded      32359 entries from '/n/holystore01/LABS/hernquist_lab/Lab/ghernquist/lkelley/illustris-data/newer/L75n1820FP/bh-snapshots/bh-snapshots_117.hdf5', created '2020-10-19 16:42:05.722373'\n",
      "Loaded      32359 entries from '/n/holystore01/LABS/hernquist_lab/Lab/ghernquist/lkelley/illustris-data/newer/L75n1820FP/bh-snapshots/bh-snapshots_117.hdf5', created '2020-10-19 16:42:05.722373'\n",
      "Loaded      32625 entries from '/n/holystore01/LABS/hernquist_lab/Lab/ghernquist/lkelley/illustris-data/newer/L75n1820FP/bh-snapshots/bh-snapshots_118.hdf5', created '2020-10-19 16:42:37.734354'\n",
      "Loaded      32625 entries from '/n/holystore01/LABS/hernquist_lab/Lab/ghernquist/lkelley/illustris-data/newer/L75n1820FP/bh-snapshots/bh-snapshots_118.hdf5', created '2020-10-19 16:42:37.734354'\n",
      "Loaded      32477 entries from '/n/holystore01/LABS/hernquist_lab/Lab/ghernquist/lkelley/illustris-data/newer/L75n1820FP/bh-snapshots/bh-snapshots_119.hdf5', created '2020-10-19 16:44:26.228840'\n",
      "Loaded      32477 entries from '/n/holystore01/LABS/hernquist_lab/Lab/ghernquist/lkelley/illustris-data/newer/L75n1820FP/bh-snapshots/bh-snapshots_119.hdf5', created '2020-10-19 16:44:26.228840'\n",
      "Loaded      32725 entries from '/n/holystore01/LABS/hernquist_lab/Lab/ghernquist/lkelley/illustris-data/newer/L75n1820FP/bh-snapshots/bh-snapshots_120.hdf5', created '2020-10-19 16:44:12.265400'\n",
      "Loaded      32725 entries from '/n/holystore01/LABS/hernquist_lab/Lab/ghernquist/lkelley/illustris-data/newer/L75n1820FP/bh-snapshots/bh-snapshots_120.hdf5', created '2020-10-19 16:44:12.265400'\n",
      "Loaded      32475 entries from '/n/holystore01/LABS/hernquist_lab/Lab/ghernquist/lkelley/illustris-data/newer/L75n1820FP/bh-snapshots/bh-snapshots_121.hdf5', created '2020-10-19 16:42:07.934352'\n",
      "Loaded      32475 entries from '/n/holystore01/LABS/hernquist_lab/Lab/ghernquist/lkelley/illustris-data/newer/L75n1820FP/bh-snapshots/bh-snapshots_121.hdf5', created '2020-10-19 16:42:07.934352'\n",
      "Loaded      32341 entries from '/n/holystore01/LABS/hernquist_lab/Lab/ghernquist/lkelley/illustris-data/newer/L75n1820FP/bh-snapshots/bh-snapshots_122.hdf5', created '2020-10-19 16:43:15.458208'\n",
      "Loaded      32341 entries from '/n/holystore01/LABS/hernquist_lab/Lab/ghernquist/lkelley/illustris-data/newer/L75n1820FP/bh-snapshots/bh-snapshots_122.hdf5', created '2020-10-19 16:43:15.458208'\n",
      "Loaded      32576 entries from '/n/holystore01/LABS/hernquist_lab/Lab/ghernquist/lkelley/illustris-data/newer/L75n1820FP/bh-snapshots/bh-snapshots_123.hdf5', created '2020-10-19 16:42:33.330030'\n",
      "Loaded      32576 entries from '/n/holystore01/LABS/hernquist_lab/Lab/ghernquist/lkelley/illustris-data/newer/L75n1820FP/bh-snapshots/bh-snapshots_123.hdf5', created '2020-10-19 16:42:33.330030'\n",
      "Loaded      32422 entries from '/n/holystore01/LABS/hernquist_lab/Lab/ghernquist/lkelley/illustris-data/newer/L75n1820FP/bh-snapshots/bh-snapshots_124.hdf5', created '2020-10-19 16:43:10.458187'\n",
      "Loaded      32422 entries from '/n/holystore01/LABS/hernquist_lab/Lab/ghernquist/lkelley/illustris-data/newer/L75n1820FP/bh-snapshots/bh-snapshots_124.hdf5', created '2020-10-19 16:43:10.458187'\n",
      "Loaded      32674 entries from '/n/holystore01/LABS/hernquist_lab/Lab/ghernquist/lkelley/illustris-data/newer/L75n1820FP/bh-snapshots/bh-snapshots_125.hdf5', created '2020-10-19 16:42:04.790142'\n",
      "Loaded      32674 entries from '/n/holystore01/LABS/hernquist_lab/Lab/ghernquist/lkelley/illustris-data/newer/L75n1820FP/bh-snapshots/bh-snapshots_125.hdf5', created '2020-10-19 16:42:04.790142'\n",
      "Loaded      32456 entries from '/n/holystore01/LABS/hernquist_lab/Lab/ghernquist/lkelley/illustris-data/newer/L75n1820FP/bh-snapshots/bh-snapshots_126.hdf5', created '2020-10-19 16:44:28.543274'\n",
      "Loaded      32456 entries from '/n/holystore01/LABS/hernquist_lab/Lab/ghernquist/lkelley/illustris-data/newer/L75n1820FP/bh-snapshots/bh-snapshots_126.hdf5', created '2020-10-19 16:44:28.543274'\n",
      "Loaded      32309 entries from '/n/holystore01/LABS/hernquist_lab/Lab/ghernquist/lkelley/illustris-data/newer/L75n1820FP/bh-snapshots/bh-snapshots_127.hdf5', created '2020-10-19 16:44:07.506196'\n",
      "Loaded      32309 entries from '/n/holystore01/LABS/hernquist_lab/Lab/ghernquist/lkelley/illustris-data/newer/L75n1820FP/bh-snapshots/bh-snapshots_127.hdf5', created '2020-10-19 16:44:07.506196'\n",
      "Loaded      32547 entries from '/n/holystore01/LABS/hernquist_lab/Lab/ghernquist/lkelley/illustris-data/newer/L75n1820FP/bh-snapshots/bh-snapshots_128.hdf5', created '2020-10-19 16:42:15.246336'\n",
      "Loaded      32547 entries from '/n/holystore01/LABS/hernquist_lab/Lab/ghernquist/lkelley/illustris-data/newer/L75n1820FP/bh-snapshots/bh-snapshots_128.hdf5', created '2020-10-19 16:42:15.246336'\n",
      "Loaded      32405 entries from '/n/holystore01/LABS/hernquist_lab/Lab/ghernquist/lkelley/illustris-data/newer/L75n1820FP/bh-snapshots/bh-snapshots_129.hdf5', created '2020-10-19 16:42:04.233386'\n",
      "Loaded      32405 entries from '/n/holystore01/LABS/hernquist_lab/Lab/ghernquist/lkelley/illustris-data/newer/L75n1820FP/bh-snapshots/bh-snapshots_129.hdf5', created '2020-10-19 16:42:04.233386'\n",
      "Loaded      32584 entries from '/n/holystore01/LABS/hernquist_lab/Lab/ghernquist/lkelley/illustris-data/newer/L75n1820FP/bh-snapshots/bh-snapshots_130.hdf5', created '2020-10-19 16:42:38.826664'\n",
      "Loaded      32584 entries from '/n/holystore01/LABS/hernquist_lab/Lab/ghernquist/lkelley/illustris-data/newer/L75n1820FP/bh-snapshots/bh-snapshots_130.hdf5', created '2020-10-19 16:42:38.826664'\n",
      "Loaded      32440 entries from '/n/holystore01/LABS/hernquist_lab/Lab/ghernquist/lkelley/illustris-data/newer/L75n1820FP/bh-snapshots/bh-snapshots_131.hdf5', created '2020-10-19 16:42:36.918973'\n",
      "Loaded      32440 entries from '/n/holystore01/LABS/hernquist_lab/Lab/ghernquist/lkelley/illustris-data/newer/L75n1820FP/bh-snapshots/bh-snapshots_131.hdf5', created '2020-10-19 16:42:36.918973'\n",
      "Loaded      32648 entries from '/n/holystore01/LABS/hernquist_lab/Lab/ghernquist/lkelley/illustris-data/newer/L75n1820FP/bh-snapshots/bh-snapshots_132.hdf5', created '2020-10-19 16:42:05.615128'\n",
      "Loaded      32648 entries from '/n/holystore01/LABS/hernquist_lab/Lab/ghernquist/lkelley/illustris-data/newer/L75n1820FP/bh-snapshots/bh-snapshots_132.hdf5', created '2020-10-19 16:42:05.615128'\n",
      "Loaded      32507 entries from '/n/holystore01/LABS/hernquist_lab/Lab/ghernquist/lkelley/illustris-data/newer/L75n1820FP/bh-snapshots/bh-snapshots_133.hdf5', created '2020-10-19 16:42:05.909326'\n",
      "Loaded      32507 entries from '/n/holystore01/LABS/hernquist_lab/Lab/ghernquist/lkelley/illustris-data/newer/L75n1820FP/bh-snapshots/bh-snapshots_133.hdf5', created '2020-10-19 16:42:05.909326'\n",
      "Loaded      32317 entries from '/n/holystore01/LABS/hernquist_lab/Lab/ghernquist/lkelley/illustris-data/newer/L75n1820FP/bh-snapshots/bh-snapshots_134.hdf5', created '2020-10-19 16:42:37.777797'\n",
      "Loaded      32317 entries from '/n/holystore01/LABS/hernquist_lab/Lab/ghernquist/lkelley/illustris-data/newer/L75n1820FP/bh-snapshots/bh-snapshots_134.hdf5', created '2020-10-19 16:42:37.777797'\n",
      "Loaded      32552 entries from '/n/holystore01/LABS/hernquist_lab/Lab/ghernquist/lkelley/illustris-data/newer/L75n1820FP/bh-snapshots/bh-snapshots_135.hdf5', created '2020-11-01 17:46:16.291120'\n",
      "Loaded      32552 entries from '/n/holystore01/LABS/hernquist_lab/Lab/ghernquist/lkelley/illustris-data/newer/L75n1820FP/bh-snapshots/bh-snapshots_135.hdf5', created '2020-11-01 17:46:16.291120'\n"
     ]
    }
   ],
   "source": [
    "for snap_num in range(136):\n",
    "    try:\n",
    "#         _snap = illpy_lib.illbh.snapshots.Snapshots_Snap(snap_num, SIM_PATH, PROC_PATH, recreate=False)\n",
    "        _dets_snap = illpy_lib.illbh.details.Deta\n",
    "    except Exception as err:\n",
    "        logging.error(f\"FAILURE on snap {snap_num} :: '{str(err)}'\")\n",
    "        \n"
   ]
  },
  {
   "cell_type": "code",
   "execution_count": 4,
   "metadata": {},
   "outputs": [],
   "source": [
    "import illpy_lib.illbh.mergers\n",
    "reload(illpy_lib.illbh.mergers)\n",
    "mergers = illpy_lib.illbh.mergers.Mergers_TOS(SIM_PATH, PROC_PATH, recreate=False, verbose=False)"
   ]
  },
  {
   "cell_type": "code",
   "execution_count": 5,
   "metadata": {},
   "outputs": [
    {
     "data": {
      "text/plain": [
       "['BH_Mass',\n",
       " 'Masses',\n",
       " 'ParticleIDs',\n",
       " 'scale',\n",
       " 'task',\n",
       " 'unique_counts',\n",
       " 'unique_ids',\n",
       " 'unique_indices']"
      ]
     },
     "execution_count": 5,
     "metadata": {},
     "output_type": "execute_result"
    }
   ],
   "source": [
    "mergers.keys()"
   ]
  },
  {
   "cell_type": "code",
   "execution_count": 15,
   "metadata": {},
   "outputs": [],
   "source": [
    "import os"
   ]
  },
  {
   "cell_type": "code",
   "execution_count": 18,
   "metadata": {},
   "outputs": [
    {
     "name": "stdout",
     "output_type": "stream",
     "text": [
      "Found 8192 files in /n/holystore01/LABS/hernquist_lab/Lab/Illustris/Runs/L75n1820FP/txt-files/txtfiles_new/txt-files-supermuc/blackhole_details\n",
      "Found 16 files in /n/holystore01/LABS/hernquist_lab/Lab/Illustris/Runs/L75n1820FP/txt-files/txtfiles_new/txt-files-partial/Aug14/blackhole_details\n",
      "Found 8176 files in /n/holystore01/LABS/hernquist_lab/Lab/Illustris/Runs/L75n1820FP/txt-files/txtfiles_new/txt-files-partial/Aug8/blackhole_details\n",
      "Found 8192 files in /n/holystore01/LABS/hernquist_lab/Lab/Illustris/Runs/L75n1820FP/txt-files/txtfiles_new/txt-files-partial/Oct10/blackhole_details\n",
      "Found 7616 files in /n/holystore01/LABS/hernquist_lab/Lab/Illustris/Runs/L75n1820FP/txt-files/txtfiles_new/txt-files-partial/Sep25/blackhole_details\n",
      "Found 8192 files in /n/holystore01/LABS/hernquist_lab/Lab/Illustris/Runs/L75n1820FP/txt-files/txtfiles_new/txt-files-curie/blackhole_details\n"
     ]
    }
   ],
   "source": [
    "files = []\n",
    "path = os.path.join(SIM_PATH, 'txt-files', 'txtfiles_new', '')\n",
    "for dirpath, dirnames, filenames in os.walk(path):\n",
    "    filenames = [os.path.join(dirpath, fn) for fn in filenames if fn.startswith('blackhole_details')]\n",
    "    if (len(filenames) > 0):\n",
    "        print(\"Found {} files in {}\".format(len(filenames), dirpath))\n",
    "        # print(filenames)\n",
    "        # break\n",
    "    files = files + filenames\n",
    "    \n"
   ]
  },
  {
   "cell_type": "code",
   "execution_count": 4,
   "metadata": {},
   "outputs": [],
   "source": [
    "# reload(illpy_lib.illbh)\n",
    "import illpy_lib.illbh.details\n",
    "# reload(illpy_lib.illbh.details)"
   ]
  },
  {
   "cell_type": "code",
   "execution_count": 6,
   "metadata": {},
   "outputs": [
    {
     "name": "stdout",
     "output_type": "stream",
     "text": [
      "Found parameters file: '/n/holystore01/LABS/hernquist_lab/Lab/Illustris/Runs/L75n1820FP/setup/curie/param.txt-usedvalues'\n",
      "Found parameters file: '/n/holystore01/LABS/hernquist_lab/Lab/Illustris/Runs/L75n1820FP/output/setup/curie/param.txt-usedvalues'\n",
      "Found 136 snapshot directories\n",
      "Snap 0: loading header info from '/n/holystore01/LABS/hernquist_lab/Lab/Illustris/Runs/L75n1820FP/output/snapdir_000/snap_000.394.hdf5'\n"
     ]
    }
   ],
   "source": [
    "reload(illpy_lib.illbh)\n",
    "import illpy_lib.illbh.details\n",
    "reload(illpy_lib.illbh.details)\n",
    "dets_t0 = illpy_lib.illbh.details.Details_TOS_Task(0, SIM_PATH, PROC_PATH, recreate=False, verbose=False)"
   ]
  },
  {
   "cell_type": "code",
   "execution_count": 7,
   "metadata": {},
   "outputs": [
    {
     "name": "stdout",
     "output_type": "stream",
     "text": [
      "Found parameters file: '/n/holystore01/LABS/hernquist_lab/Lab/Illustris/Runs/L75n1820FP/setup/curie/param.txt-usedvalues'\n",
      "Found parameters file: '/n/holystore01/LABS/hernquist_lab/Lab/Illustris/Runs/L75n1820FP/output/setup/curie/param.txt-usedvalues'\n",
      "Found 136 snapshot directories\n",
      "Snap 0: loading header info from '/n/holystore01/LABS/hernquist_lab/Lab/Illustris/Runs/L75n1820FP/output/snapdir_000/snap_000.394.hdf5'\n"
     ]
    }
   ],
   "source": [
    "cosmo = None\n",
    "for task in range(8192):\n",
    "    _dets_task = illpy_lib.illbh.details.Details_TOS_Task(\n",
    "        task, SIM_PATH, PROC_PATH, recreate=False, verbose=False, cosmo=cosmo)\n",
    "    cosmo = _dets_task._cosmo"
   ]
  },
  {
   "cell_type": "code",
   "execution_count": 8,
   "metadata": {},
   "outputs": [],
   "source": [
    "# reload(illpy_lib.illbh)\n",
    "import illpy_lib.illbh.details\n",
    "# reload(illpy_lib.illbh.details)\n",
    "# dets_s40 = illpy_lib.illbh.details.Details_TOS_Snap(\n",
    "#     40, SIM_PATH, PROC_PATH, recreate=False, verbose=True, cosmo=None)\n",
    "cosmo = None\n",
    "for snap in range(136):\n",
    "    _dets_snap = illpy_lib.illbh.details.Details_TOS_Snap(\n",
    "        snap, SIM_PATH, PROC_PATH, recreate=False, verbose=False, cosmo=cosmo)\n",
    "    cosmo = _dets_snap._cosmo\n"
   ]
  },
  {
   "cell_type": "code",
   "execution_count": 7,
   "metadata": {},
   "outputs": [
    {
     "name": "stdout",
     "output_type": "stream",
     "text": [
      "\n",
      " 0 at 2020-10-19 14:00:31.431387 after 0:00:00.000116\n",
      "Found parameters file: '/net/hernquistfs3/hernquistfs3/share_root/IllustrisTNG/Runs/L75n1820TNG/arepo/param.txt-usedvalues'\n",
      "Found 100 snapshot directories\n",
      "Snap 0: loading header info from '/net/hernquistfs3/hernquistfs3/share_root/IllustrisTNG/Runs/L75n1820TNG/output/snapdir_000/snap_000.144.hdf5'\n",
      "Missing snap 0\n",
      "Running `_process()`; recreate: True, exists: False (/n/holystore01/LABS/hernquist_lab/Lab/ghernquist/lkelley/illustris-data/newer/L75n1820TNG/details_0000/bh-details_0000.hdf5)\n",
      "100 snapshots from cosmo\n",
      "First line: 'BH=103922973596 0.0898664 8.29689e-05 0.000162428 0.225433 60.5672'\n",
      "Loaded 181485 details from '/net/hernquistfs3/hernquistfs3/share_root/IllustrisTNG/Runs/L75n1820TNG/output/blackhole_details/blackhole_details_0.txt'\n",
      "Organizing into 100 snapshots [4.7513900000e-02...1.0000000000e+00]\n",
      "\n",
      "done at 2020-10-19 14:00:47.348944 after 0:00:15.917673\n"
     ]
    }
   ],
   "source": [
    "import datetime\n",
    "import illpy_lib.illbh.details\n",
    "beg = datetime.datetime.now()\n",
    "\n",
    "task = 0\n",
    "cosmo = None\n",
    "while task < 1e6:\n",
    "    now = datetime.datetime.now()\n",
    "    print(\"\\n\", task, \"at {} after {}\".format(now, now - beg))\n",
    "    try:\n",
    "        temp = illpy_lib.illbh.details.Details_TNG_Task(\n",
    "            task, SIM_PATH, PROC_PATH,\n",
    "            cosmo=cosmo, recreate=True, verbose=True)\n",
    "        cosmo = temp._cosmo\n",
    "    except FileNotFoundError as err:\n",
    "        print(f\"Completed with {task} tasks\")\n",
    "        break\n",
    "        \n",
    "    task += 1\n",
    "    break\n",
    "    \n",
    "now = datetime.datetime.now()\n",
    "print(\"\\ndone at {} after {}\".format(now, now - beg))"
   ]
  },
  {
   "cell_type": "code",
   "execution_count": null,
   "metadata": {},
   "outputs": [
    {
     "name": "stderr",
     "output_type": "stream",
     "text": [
      "WARNING:root:Loading MPI...\n"
     ]
    }
   ],
   "source": [
    "illpy_lib.illbh.details.process_details_snaps__tng(\n",
    "    SIM_PATH, PROC_PATH, recreate=True, verbose=True)"
   ]
  },
  {
   "cell_type": "code",
   "execution_count": null,
   "metadata": {},
   "outputs": [],
   "source": [
    "dets = illpy_lib.illbh.details.Details_TNG(\n",
    "    SIM_PATH, processed_path=PROC_PATH, recreate=False, verbose=True)"
   ]
  },
  {
   "cell_type": "code",
   "execution_count": null,
   "metadata": {
    "collapsed": true
   },
   "outputs": [],
   "source": [
    "snaps = illpy_lib.illbh.snapshots.Snapshots_TNG(SIM_PATH, processed_path=PROC_PATH, recreate=True)"
   ]
  },
  {
   "cell_type": "code",
   "execution_count": null,
   "metadata": {},
   "outputs": [],
   "source": []
  }
 ],
 "metadata": {
  "kernelspec": {
   "display_name": "py38",
   "language": "python",
   "name": "py38"
  },
  "language_info": {
   "codemirror_mode": {
    "name": "ipython",
    "version": 3
   },
   "file_extension": ".py",
   "mimetype": "text/x-python",
   "name": "python",
   "nbconvert_exporter": "python",
   "pygments_lexer": "ipython3",
   "version": "3.8.5"
  }
 },
 "nbformat": 4,
 "nbformat_minor": 4
}
